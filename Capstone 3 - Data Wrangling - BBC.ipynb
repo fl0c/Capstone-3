{
 "cells": [
  {
   "cell_type": "markdown",
   "id": "d9b4d535",
   "metadata": {},
   "source": [
    "# Data Cleaning for Text Summarization"
   ]
  },
  {
   "cell_type": "markdown",
   "id": "61928d7e",
   "metadata": {},
   "source": [
    "Data source:\n",
    "<br> https://www.kaggle.com/namrarehman/bbc-articles?select=BBCarticles_csv.csv\n",
    "<br> Code adpated from:\n",
    "<br> https://www.analyticsvidhya.com/blog/2019/06/comprehensive-guide-text-summarization-using-deep-learning-python/"
   ]
  },
  {
   "cell_type": "code",
   "execution_count": 1,
   "id": "92eac00f",
   "metadata": {},
   "outputs": [],
   "source": [
    "# Import modules and packages\n",
    "import nltk\n",
    "import string\n",
    "import numpy as np  \n",
    "import pandas as pd \n",
    "import re\n",
    "from nltk.corpus import stopwords \n",
    "import warnings\n",
    "pd.set_option(\"display.max_colwidth\", 200)\n",
    "warnings.filterwarnings(\"ignore\")"
   ]
  },
  {
   "cell_type": "markdown",
   "id": "8ba1f84c",
   "metadata": {},
   "source": [
    "## Read in Text"
   ]
  },
  {
   "cell_type": "code",
   "execution_count": 2,
   "id": "f60db50d",
   "metadata": {},
   "outputs": [
    {
     "name": "stdout",
     "output_type": "stream",
     "text": [
      "<class 'pandas.core.frame.DataFrame'>\n",
      "Int64Index: 2127 entries, 0 to 2224\n",
      "Data columns (total 2 columns):\n",
      " #   Column   Non-Null Count  Dtype \n",
      "---  ------   --------------  ----- \n",
      " 0   Summary  2127 non-null   object\n",
      " 1   Text     2127 non-null   object\n",
      "dtypes: object(2)\n",
      "memory usage: 49.9+ KB\n"
     ]
    }
   ],
   "source": [
    "# load data\n",
    "df = pd.read_csv(\"BBCarticles.csv\", encoding ='latin1') #2127 dataset\n",
    "df.drop_duplicates(subset=['Text'], inplace=True)\n",
    "df.dropna(axis=0,inplace=True)\n",
    "df.info()"
   ]
  },
  {
   "cell_type": "code",
   "execution_count": 3,
   "id": "ca52a461",
   "metadata": {},
   "outputs": [],
   "source": [
    "contraction_mapping = {\"ain't\": \"is not\", \"aren't\": \"are not\",\"can't\": \"cannot\", \"'cause\": \"because\", \"could've\": \"could have\", \"couldn't\": \"could not\",\n",
    "                           \"didn't\": \"did not\",  \"doesn't\": \"does not\", \"don't\": \"do not\", \"hadn't\": \"had not\", \"hasn't\": \"has not\", \"haven't\": \"have not\",\n",
    "                           \"he'd\": \"he would\",\"he'll\": \"he will\", \"he's\": \"he is\", \"how'd\": \"how did\", \"how'd'y\": \"how do you\", \"how'll\": \"how will\", \"how's\": \"how is\",\n",
    "                           \"I'd\": \"I would\", \"I'd've\": \"I would have\", \"I'll\": \"I will\", \"I'll've\": \"I will have\",\"I'm\": \"I am\", \"I've\": \"I have\", \"i'd\": \"i would\",\n",
    "                           \"i'd've\": \"i would have\", \"i'll\": \"i will\",  \"i'll've\": \"i will have\",\"i'm\": \"i am\", \"i've\": \"i have\", \"isn't\": \"is not\", \"it'd\": \"it would\",\n",
    "                           \"it'd've\": \"it would have\", \"it'll\": \"it will\", \"it'll've\": \"it will have\",\"it's\": \"it is\", \"let's\": \"let us\", \"ma'am\": \"madam\",\n",
    "                           \"mayn't\": \"may not\", \"might've\": \"might have\",\"mightn't\": \"might not\",\"mightn't've\": \"might not have\", \"must've\": \"must have\",\n",
    "                           \"mustn't\": \"must not\", \"mustn't've\": \"must not have\", \"needn't\": \"need not\", \"needn't've\": \"need not have\",\"o'clock\": \"of the clock\",\n",
    "                           \"oughtn't\": \"ought not\", \"oughtn't've\": \"ought not have\", \"shan't\": \"shall not\", \"sha'n't\": \"shall not\", \"shan't've\": \"shall not have\",\n",
    "                           \"she'd\": \"she would\", \"she'd've\": \"she would have\", \"she'll\": \"she will\", \"she'll've\": \"she will have\", \"she's\": \"she is\",\n",
    "                           \"should've\": \"should have\", \"shouldn't\": \"should not\", \"shouldn't've\": \"should not have\", \"so've\": \"so have\",\"so's\": \"so as\",\n",
    "                           \"this's\": \"this is\",\"that'd\": \"that would\", \"that'd've\": \"that would have\", \"that's\": \"that is\", \"there'd\": \"there would\",\n",
    "                           \"there'd've\": \"there would have\", \"there's\": \"there is\", \"here's\": \"here is\",\"they'd\": \"they would\", \"they'd've\": \"they would have\",\n",
    "                           \"they'll\": \"they will\", \"they'll've\": \"they will have\", \"they're\": \"they are\", \"they've\": \"they have\", \"to've\": \"to have\",\n",
    "                           \"wasn't\": \"was not\", \"we'd\": \"we would\", \"we'd've\": \"we would have\", \"we'll\": \"we will\", \"we'll've\": \"we will have\", \"we're\": \"we are\",\n",
    "                           \"we've\": \"we have\", \"weren't\": \"were not\", \"what'll\": \"what will\", \"what'll've\": \"what will have\", \"what're\": \"what are\",\n",
    "                           \"what's\": \"what is\", \"what've\": \"what have\", \"when's\": \"when is\", \"when've\": \"when have\", \"where'd\": \"where did\", \"where's\": \"where is\",\n",
    "                           \"where've\": \"where have\", \"who'll\": \"who will\", \"who'll've\": \"who will have\", \"who's\": \"who is\", \"who've\": \"who have\",\n",
    "                           \"why's\": \"why is\", \"why've\": \"why have\", \"will've\": \"will have\", \"won't\": \"will not\", \"won't've\": \"will not have\",\n",
    "                           \"would've\": \"would have\", \"wouldn't\": \"would not\", \"wouldn't've\": \"would not have\", \"y'all\": \"you all\",\n",
    "                           \"y'all'd\": \"you all would\",\"y'all'd've\": \"you all would have\",\"y'all're\": \"you all are\",\"y'all've\": \"you all have\",\n",
    "                           \"you'd\": \"you would\", \"you'd've\": \"you would have\", \"you'll\": \"you will\", \"you'll've\": \"you will have\",\n",
    "                           \"you're\": \"you are\", \"you've\": \"you have\"}"
   ]
  },
  {
   "cell_type": "code",
   "execution_count": 4,
   "id": "def09dcd",
   "metadata": {
    "scrolled": false
   },
   "outputs": [
    {
     "data": {
      "text/html": [
       "<div>\n",
       "<style scoped>\n",
       "    .dataframe tbody tr th:only-of-type {\n",
       "        vertical-align: middle;\n",
       "    }\n",
       "\n",
       "    .dataframe tbody tr th {\n",
       "        vertical-align: top;\n",
       "    }\n",
       "\n",
       "    .dataframe thead th {\n",
       "        text-align: right;\n",
       "    }\n",
       "</style>\n",
       "<table border=\"1\" class=\"dataframe\">\n",
       "  <thead>\n",
       "    <tr style=\"text-align: right;\">\n",
       "      <th></th>\n",
       "      <th>Summary</th>\n",
       "      <th>Text</th>\n",
       "      <th>cleaned_text</th>\n",
       "      <th>cleaned_summary</th>\n",
       "    </tr>\n",
       "  </thead>\n",
       "  <tbody>\n",
       "    <tr>\n",
       "      <th>0</th>\n",
       "      <td>TimeWarner said fourth quarter sales rose 2% to $11.1bn from $10.9bn.For the full-year, TimeWarner posted a profit of $3.36bn, up 27% from its 2003 performance, while revenues grew 6.4% to $42.09b...</td>\n",
       "      <td>Ad sales boost Time Warner profit\\n\\nQuarterly profits at US media giant TimeWarner jumped 76% to $1.13bn (Â£600m) for the three months to December, from $639m year-earlier.\\n\\nThe firm, which is ...</td>\n",
       "      <td>ad sales boost time warner profit quarterly profits us media giant timewarner jumped bn three months december year earlier firm one biggest investors google benefited sales high speed internet con...</td>\n",
       "      <td>timewarner said fourth quarter sales rose bn bn full year timewarner posted profit bn performance revenues grew bn quarterly profits us media giant timewarner jumped bn three months december year ...</td>\n",
       "    </tr>\n",
       "    <tr>\n",
       "      <th>1</th>\n",
       "      <td>The dollar has hit its highest level against the euro in almost three months after the Federal Reserve head said the US trade deficit is set to stabilise.China's currency remains pegged to the dol...</td>\n",
       "      <td>Dollar gains on Greenspan speech\\n\\nThe dollar has hit its highest level against the euro in almost three months after the Federal Reserve head said the US trade deficit is set to stabilise.\\n\\nAn...</td>\n",
       "      <td>dollar gains greenspan speech dollar hit highest level euro almost three months federal reserve head said us trade deficit set stabilise alan greenspan highlighted us government willingness curb s...</td>\n",
       "      <td>dollar hit highest level euro almost three months federal reserve head said us trade deficit set stabilise china currency remains pegged dollar us currency sharp falls recent months therefore made...</td>\n",
       "    </tr>\n",
       "    <tr>\n",
       "      <th>2</th>\n",
       "      <td>Yukos' owner Menatep Group says it will ask Rosneft to repay a loan that Yugansk had secured on its assets.State-owned Rosneft bought the Yugansk unit for $9.3bn in a sale forced by Russia to part...</td>\n",
       "      <td>Yukos unit buyer faces loan claim\\n\\nThe owners of embattled Russian oil giant Yukos are to ask the buyer of its former production unit to pay back a $900m (Â£479m) loan.\\n\\nState-owned Rosneft bo...</td>\n",
       "      <td>yukos unit buyer faces loan claim owners embattled russian oil giant yukos ask buyer former production unit pay back loan state owned rosneft bought yugansk unit bn sale forced russia part settle ...</td>\n",
       "      <td>yukos owner menatep group says ask rosneft repay loan yugansk secured assets state owned rosneft bought yugansk unit bn sale forced russia part settle bn tax claim yukos sale went ahead december y...</td>\n",
       "    </tr>\n",
       "    <tr>\n",
       "      <th>3</th>\n",
       "      <td>Rod Eddington, BA's chief executive, said the results were \"respectable\" in a third quarter when fuel costs rose by Â£106m or 47.3%.To help offset the increased price of aviation fuel, BA last yea...</td>\n",
       "      <td>High fuel prices hit BA's profits\\n\\nBritish Airways has blamed high fuel prices for a 40% drop in profits.\\n\\nReporting its results for the three months to 31 December 2004, the airline made a pr...</td>\n",
       "      <td>high fuel prices hit ba profits british airways blamed high fuel prices drop profits reporting results three months december airline made pre tax profit compared year earlier rod eddington ba chie...</td>\n",
       "      <td>rod eddington ba chief executive said results respectable third quarter fuel costs rose help offset increased price aviation fuel ba last year introduced fuel surcharge passengers ba previously fo...</td>\n",
       "    </tr>\n",
       "    <tr>\n",
       "      <th>4</th>\n",
       "      <td>Pernod has reduced the debt it took on to fund the Seagram purchase to just 1.8bn euros, while Allied has improved the performance of its fast-food chains.Shares in UK drinks and food firm Allied ...</td>\n",
       "      <td>Pernod takeover talk lifts Domecq\\n\\nShares in UK drinks and food firm Allied Domecq have risen on speculation that it could be the target of a takeover by France's Pernod Ricard.\\n\\nReports in th...</td>\n",
       "      <td>pernod takeover talk lifts domecq shares uk drinks food firm allied domecq risen speculation could target takeover france pernod ricard reports wall street journal financial times suggested french...</td>\n",
       "      <td>pernod reduced debt took fund seagram purchase bn euros allied improved performance fast food chains shares uk drinks food firm allied domecq risen speculation could target takeover france pernod ...</td>\n",
       "    </tr>\n",
       "  </tbody>\n",
       "</table>\n",
       "</div>"
      ],
      "text/plain": [
       "                                                                                                                                                                                                   Summary  \\\n",
       "0  TimeWarner said fourth quarter sales rose 2% to $11.1bn from $10.9bn.For the full-year, TimeWarner posted a profit of $3.36bn, up 27% from its 2003 performance, while revenues grew 6.4% to $42.09b...   \n",
       "1  The dollar has hit its highest level against the euro in almost three months after the Federal Reserve head said the US trade deficit is set to stabilise.China's currency remains pegged to the dol...   \n",
       "2  Yukos' owner Menatep Group says it will ask Rosneft to repay a loan that Yugansk had secured on its assets.State-owned Rosneft bought the Yugansk unit for $9.3bn in a sale forced by Russia to part...   \n",
       "3  Rod Eddington, BA's chief executive, said the results were \"respectable\" in a third quarter when fuel costs rose by Â£106m or 47.3%.To help offset the increased price of aviation fuel, BA last yea...   \n",
       "4  Pernod has reduced the debt it took on to fund the Seagram purchase to just 1.8bn euros, while Allied has improved the performance of its fast-food chains.Shares in UK drinks and food firm Allied ...   \n",
       "\n",
       "                                                                                                                                                                                                      Text  \\\n",
       "0  Ad sales boost Time Warner profit\\n\\nQuarterly profits at US media giant TimeWarner jumped 76% to $1.13bn (Â£600m) for the three months to December, from $639m year-earlier.\\n\\nThe firm, which is ...   \n",
       "1  Dollar gains on Greenspan speech\\n\\nThe dollar has hit its highest level against the euro in almost three months after the Federal Reserve head said the US trade deficit is set to stabilise.\\n\\nAn...   \n",
       "2  Yukos unit buyer faces loan claim\\n\\nThe owners of embattled Russian oil giant Yukos are to ask the buyer of its former production unit to pay back a $900m (Â£479m) loan.\\n\\nState-owned Rosneft bo...   \n",
       "3  High fuel prices hit BA's profits\\n\\nBritish Airways has blamed high fuel prices for a 40% drop in profits.\\n\\nReporting its results for the three months to 31 December 2004, the airline made a pr...   \n",
       "4  Pernod takeover talk lifts Domecq\\n\\nShares in UK drinks and food firm Allied Domecq have risen on speculation that it could be the target of a takeover by France's Pernod Ricard.\\n\\nReports in th...   \n",
       "\n",
       "                                                                                                                                                                                              cleaned_text  \\\n",
       "0  ad sales boost time warner profit quarterly profits us media giant timewarner jumped bn three months december year earlier firm one biggest investors google benefited sales high speed internet con...   \n",
       "1  dollar gains greenspan speech dollar hit highest level euro almost three months federal reserve head said us trade deficit set stabilise alan greenspan highlighted us government willingness curb s...   \n",
       "2  yukos unit buyer faces loan claim owners embattled russian oil giant yukos ask buyer former production unit pay back loan state owned rosneft bought yugansk unit bn sale forced russia part settle ...   \n",
       "3  high fuel prices hit ba profits british airways blamed high fuel prices drop profits reporting results three months december airline made pre tax profit compared year earlier rod eddington ba chie...   \n",
       "4  pernod takeover talk lifts domecq shares uk drinks food firm allied domecq risen speculation could target takeover france pernod ricard reports wall street journal financial times suggested french...   \n",
       "\n",
       "                                                                                                                                                                                           cleaned_summary  \n",
       "0  timewarner said fourth quarter sales rose bn bn full year timewarner posted profit bn performance revenues grew bn quarterly profits us media giant timewarner jumped bn three months december year ...  \n",
       "1  dollar hit highest level euro almost three months federal reserve head said us trade deficit set stabilise china currency remains pegged dollar us currency sharp falls recent months therefore made...  \n",
       "2  yukos owner menatep group says ask rosneft repay loan yugansk secured assets state owned rosneft bought yugansk unit bn sale forced russia part settle bn tax claim yukos sale went ahead december y...  \n",
       "3  rod eddington ba chief executive said results respectable third quarter fuel costs rose help offset increased price aviation fuel ba last year introduced fuel surcharge passengers ba previously fo...  \n",
       "4  pernod reduced debt took fund seagram purchase bn euros allied improved performance fast food chains shares uk drinks food firm allied domecq risen speculation could target takeover france pernod ...  "
      ]
     },
     "execution_count": 4,
     "metadata": {},
     "output_type": "execute_result"
    }
   ],
   "source": [
    "# Clean Text\n",
    "stop_words = set(stopwords.words('english'))\n",
    "\n",
    "def clean_text(text, num):\n",
    "    \"\"\"\n",
    "    This function takes a string as input, performs these operations: \n",
    "        - lower case, remove unwanted punctuation, apostrophe 's\n",
    "        - contraction mapping\n",
    "        - removes any stopwords and short words\n",
    "        - not enough memory for mdoel to process all numerical features, so removed here\n",
    "    \"\"\" \n",
    "    # Lower case\n",
    "    t1 = text.lower()\n",
    "    # remove any text inside parentheses\n",
    "    t1 = re.sub(r'\\([^)]*\\)', '', t1)\n",
    "    # remove speechmarks\n",
    "    t1 = re.sub('\"','', t1)\n",
    "    # contraction mapping\n",
    "    t1 = ' '.join([contraction_mapping[t] if t in contraction_mapping else t for t in t1.split(\" \")])\n",
    "    # remove apostrophe 's\n",
    "    t1 = re.sub(r\"'s\\b\",\"\", t1)\n",
    "    # remove unwanted punctuation\n",
    "    t1 = re.sub(\"[^a-zA-Z]\", \" \", t1) # keep only alphabets\n",
    "        #t1 = re.sub(\"[^0-9A-Fa-f-a-zA-Z]\", \" \", t1) # keep hexadecimal\n",
    "        #t1 = re.sub('[(!@\"#Â^&*`)]', ' ', t1) # remove specific special tokens\n",
    "    # Remove stopwords in text\n",
    "    if(num==0):\n",
    "        tokens = [w for w in t1.split() if not w in stop_words]\n",
    "    else:\n",
    "        tokens = t1.split()\n",
    "    # Remove short words in summary\n",
    "    long_words=[]\n",
    "    for i in tokens:\n",
    "        if len(i) > 1:\n",
    "            long_words.append(i)   \n",
    "    return (\" \".join(long_words)).strip()\n",
    "\n",
    "cleaned_text = []\n",
    "for t in df.Text:\n",
    "    cleaned_text.append(clean_text(t,0))\n",
    "df['cleaned_text']=cleaned_text\n",
    "\n",
    "cleaned_summary = []\n",
    "for t in df.Summary:\n",
    "    cleaned_summary.append(clean_text(t,0))\n",
    "df['cleaned_summary']=cleaned_summary\n",
    "\n",
    "# Review the cleaned dataset\n",
    "df.head()"
   ]
  },
  {
   "cell_type": "code",
   "execution_count": 5,
   "id": "43c30912",
   "metadata": {},
   "outputs": [
    {
     "name": "stdout",
     "output_type": "stream",
     "text": [
      "<class 'pandas.core.frame.DataFrame'>\n",
      "Int64Index: 2079 entries, 0 to 2224\n",
      "Data columns (total 4 columns):\n",
      " #   Column           Non-Null Count  Dtype \n",
      "---  ------           --------------  ----- \n",
      " 0   Summary          2079 non-null   object\n",
      " 1   Text             2079 non-null   object\n",
      " 2   cleaned_text     2079 non-null   object\n",
      " 3   cleaned_summary  2079 non-null   object\n",
      "dtypes: object(4)\n",
      "memory usage: 81.2+ KB\n"
     ]
    }
   ],
   "source": [
    "# Remove duplicates and drop na\n",
    "df.drop_duplicates(subset=['cleaned_summary'], inplace=True)\n",
    "df.dropna(axis=0, inplace= True)\n",
    "df.info()"
   ]
  },
  {
   "cell_type": "markdown",
   "id": "27b2812a",
   "metadata": {},
   "source": [
    "## EDA"
   ]
  },
  {
   "cell_type": "markdown",
   "id": "fc485b09",
   "metadata": {},
   "source": [
    "Plot the text and summary lengths to gain overview of distribution, then set the 95th percentile length as maximum length for model."
   ]
  },
  {
   "cell_type": "code",
   "execution_count": 6,
   "id": "31088ce3",
   "metadata": {},
   "outputs": [
    {
     "data": {
      "image/png": "[encoded data removed]",
      "text/plain": [
       "<Figure size 432x288 with 2 Axes>"
      ]
     },
     "metadata": {
      "needs_background": "light"
     },
     "output_type": "display_data"
    },
    {
     "name": "stdout",
     "output_type": "stream",
     "text": [
      "          text_len  summary_len\n",
      "count  2079.000000  2079.000000\n",
      "mean    216.301587    98.048100\n",
      "std     125.235124    60.391278\n",
      "min      48.000000    20.000000\n",
      "25%     139.000000    62.000000\n",
      "50%     188.000000    84.000000\n",
      "75%     268.000000   121.000000\n",
      "max    1980.000000   967.000000\n",
      "{'95th percentile text length: ': 406, '95th percentile summary length: ': 184}\n"
     ]
    }
   ],
   "source": [
    "# Plot word length distribution\n",
    "import matplotlib.pyplot as plt\n",
    "\n",
    "text_word_count = []\n",
    "summary_word_count = []\n",
    "\n",
    "# populate the lists with sentence lengths\n",
    "for i in df['cleaned_text']:\n",
    "      text_word_count.append(len(i.split()))\n",
    "\n",
    "for i in df['cleaned_summary']:\n",
    "      summary_word_count.append(len(i.split()))\n",
    "\n",
    "df['text_len'] = text_word_count\n",
    "df['summary_len'] = summary_word_count\n",
    "        \n",
    "df.hist(bins = 30)\n",
    "plt.show()\n",
    "\n",
    "print(df.describe())\n",
    "\n",
    "print({\"95th percentile text length: \" : int(np.percentile(df.text_len, 95)),\n",
    "       \"95th percentile summary length: \" : int(np.percentile(df.summary_len, 95))})"
   ]
  },
  {
   "cell_type": "code",
   "execution_count": 17,
   "id": "42032ebd",
   "metadata": {},
   "outputs": [
    {
     "name": "stdout",
     "output_type": "stream",
     "text": [
      "         text_len  summary_len\n",
      "count  244.000000   244.000000\n",
      "mean   101.418033    41.979508\n",
      "std     19.259049     6.482295\n",
      "min     48.000000    20.000000\n",
      "25%     87.000000    38.750000\n",
      "50%    100.000000    43.000000\n",
      "75%    113.250000    47.000000\n",
      "max    149.000000    50.000000\n"
     ]
    }
   ],
   "source": [
    "# Set maximum length of inputs to model\n",
    "max_text_len = 150\n",
    "max_summary_len = 50\n",
    "\n",
    "# Select data with lengths less than or equal to specofied max lengths\n",
    "df_m = df[df.text_len<=max_text_len][df.summary_len<=max_summary_len] \n",
    "print(df_m.describe())"
   ]
  },
  {
   "cell_type": "code",
   "execution_count": 18,
   "id": "f9c49320",
   "metadata": {},
   "outputs": [],
   "source": [
    "# Add unique start and end cues to the summary text\n",
    "df_m['cleaned_summary'] = df_m['cleaned_summary'].apply(lambda x : 'sumhajime '+ x + ' sumowari')"
   ]
  },
  {
   "cell_type": "code",
   "execution_count": 19,
   "id": "1cf2f755",
   "metadata": {},
   "outputs": [
    {
     "data": {
      "text/plain": [
       "'sumhajime ask jeeves become third leading online search firm week thank revival internet advertising improving fortunes profit quarter dwarfed announced rival google earlier week quarter yahoo earned tipping resurgence online advertising neither ask jeeves doubleclick thrilled investors profit news however ask jeeves among best known names web relatively modest player sumowari'"
      ]
     },
     "execution_count": 19,
     "metadata": {},
     "output_type": "execute_result"
    }
   ],
   "source": [
    "# Check text\n",
    "df_m.iloc[1,3]"
   ]
  },
  {
   "cell_type": "code",
   "execution_count": 20,
   "id": "237f485d",
   "metadata": {},
   "outputs": [
    {
     "data": {
      "text/html": [
       "<div>\n",
       "<style scoped>\n",
       "    .dataframe tbody tr th:only-of-type {\n",
       "        vertical-align: middle;\n",
       "    }\n",
       "\n",
       "    .dataframe tbody tr th {\n",
       "        vertical-align: top;\n",
       "    }\n",
       "\n",
       "    .dataframe thead th {\n",
       "        text-align: right;\n",
       "    }\n",
       "</style>\n",
       "<table border=\"1\" class=\"dataframe\">\n",
       "  <thead>\n",
       "    <tr style=\"text-align: right;\">\n",
       "      <th></th>\n",
       "      <th>Summary</th>\n",
       "      <th>Text</th>\n",
       "      <th>cleaned_text</th>\n",
       "      <th>cleaned_summary</th>\n",
       "      <th>text_len</th>\n",
       "      <th>summary_len</th>\n",
       "    </tr>\n",
       "  </thead>\n",
       "  <tbody>\n",
       "    <tr>\n",
       "      <th>5</th>\n",
       "      <td>On an annual basis, the data suggests annual growth of just 0.2%, suggesting a much more hesitant recovery than had previously been thought.A common technical definition of a recession is two succ...</td>\n",
       "      <td>Japan narrowly escapes recession\\n\\nJapan's economy teetered on the brink of a technical recession in the three months to September, figures show.\\n\\nRevised figures indicated growth of just 0.1% ...</td>\n",
       "      <td>japan narrowly escapes recession japan economy teetered brink technical recession three months september figures show revised figures indicated growth similar sized contraction previous quarter an...</td>\n",
       "      <td>sumhajime annual basis data suggests annual growth suggesting much hesitant recovery previously thought common technical definition recession two successive quarters negative growth revised figure...</td>\n",
       "      <td>110</td>\n",
       "      <td>41</td>\n",
       "    </tr>\n",
       "    <tr>\n",
       "      <th>10</th>\n",
       "      <td>Ask Jeeves has become the third leading online search firm this week to thank a revival in internet advertising for improving fortunes.Its $17m profit for the quarter was dwarfed by the $204m anno...</td>\n",
       "      <td>Ask Jeeves tips online ad revival\\n\\nAsk Jeeves has become the third leading online search firm this week to thank a revival in internet advertising for improving fortunes.\\n\\nThe firm's revenue n...</td>\n",
       "      <td>ask jeeves tips online ad revival ask jeeves become third leading online search firm week thank revival internet advertising improving fortunes firm revenue nearly tripled fourth quarter exceeding...</td>\n",
       "      <td>sumhajime ask jeeves become third leading online search firm week thank revival internet advertising improving fortunes profit quarter dwarfed announced rival google earlier week quarter yahoo ear...</td>\n",
       "      <td>105</td>\n",
       "      <td>49</td>\n",
       "    </tr>\n",
       "    <tr>\n",
       "      <th>17</th>\n",
       "      <td>India's rupee has hit a five-year high after Standard &amp; Poor's (S&amp;P) raised the country's foreign currency rating.India's foreign currency rating is now one notch below investment grade, which sta...</td>\n",
       "      <td>India's rupee hits five-year high\\n\\nIndia's rupee has hit a five-year high after Standard &amp; Poor's (S&amp;P) raised the country's foreign currency rating.\\n\\nThe rupee climbed to 43.305 per US dollar...</td>\n",
       "      <td>india rupee hits five year high india rupee hit five year high standard poor raised country foreign currency rating rupee climbed per us dollar thursday close currency gained almost past three ses...</td>\n",
       "      <td>sumhajime india rupee hit five year high standard poor raised country foreign currency rating india foreign currency rating one notch investment grade starts bbb rates borrowers creditworthiness l...</td>\n",
       "      <td>101</td>\n",
       "      <td>38</td>\n",
       "    </tr>\n",
       "    <tr>\n",
       "      <th>22</th>\n",
       "      <td>Despite the apparent shortfall in annual economic growth, the good quarterly figures - a so-called \"flash estimate\" - mark a continuing trend of improving indicators for the health of the French e...</td>\n",
       "      <td>Mixed signals from French economy\\n\\nThe French economy picked up speed at the end of 2004, official figures show - but still looks set to have fallen short of the government's hopes.\\n\\nAccording...</td>\n",
       "      <td>mixed signals french economy french economy picked speed end official figures show still looks set fallen short government hopes according state statistics body insee growth three months december ...</td>\n",
       "      <td>sumhajime despite apparent shortfall annual economic growth good quarterly figures called flash estimate mark continuing trend improving indicators health french economy also friday france industr...</td>\n",
       "      <td>119</td>\n",
       "      <td>49</td>\n",
       "    </tr>\n",
       "    <tr>\n",
       "      <th>27</th>\n",
       "      <td>Crude oil prices surged back above the $47 a barrel mark on Thursday after an energy market watchdog raised its forecasts for global demand.The US Department of Energy reported that crude stockpil...</td>\n",
       "      <td>Strong demand triggers oil rally\\n\\nCrude oil prices surged back above the $47 a barrel mark on Thursday after an energy market watchdog raised its forecasts for global demand.\\n\\nThe Internationa...</td>\n",
       "      <td>strong demand triggers oil rally crude oil prices surged back barrel mark thursday energy market watchdog raised forecasts global demand international energy agency warned demand opec crude first ...</td>\n",
       "      <td>sumhajime crude oil prices surged back barrel mark thursday energy market watchdog raised forecasts global demand us department energy reported crude stockpiles fallen barrels international energy...</td>\n",
       "      <td>131</td>\n",
       "      <td>46</td>\n",
       "    </tr>\n",
       "  </tbody>\n",
       "</table>\n",
       "</div>"
      ],
      "text/plain": [
       "                                                                                                                                                                                                    Summary  \\\n",
       "5   On an annual basis, the data suggests annual growth of just 0.2%, suggesting a much more hesitant recovery than had previously been thought.A common technical definition of a recession is two succ...   \n",
       "10  Ask Jeeves has become the third leading online search firm this week to thank a revival in internet advertising for improving fortunes.Its $17m profit for the quarter was dwarfed by the $204m anno...   \n",
       "17  India's rupee has hit a five-year high after Standard & Poor's (S&P) raised the country's foreign currency rating.India's foreign currency rating is now one notch below investment grade, which sta...   \n",
       "22  Despite the apparent shortfall in annual economic growth, the good quarterly figures - a so-called \"flash estimate\" - mark a continuing trend of improving indicators for the health of the French e...   \n",
       "27  Crude oil prices surged back above the $47 a barrel mark on Thursday after an energy market watchdog raised its forecasts for global demand.The US Department of Energy reported that crude stockpil...   \n",
       "\n",
       "                                                                                                                                                                                                       Text  \\\n",
       "5   Japan narrowly escapes recession\\n\\nJapan's economy teetered on the brink of a technical recession in the three months to September, figures show.\\n\\nRevised figures indicated growth of just 0.1% ...   \n",
       "10  Ask Jeeves tips online ad revival\\n\\nAsk Jeeves has become the third leading online search firm this week to thank a revival in internet advertising for improving fortunes.\\n\\nThe firm's revenue n...   \n",
       "17  India's rupee hits five-year high\\n\\nIndia's rupee has hit a five-year high after Standard & Poor's (S&P) raised the country's foreign currency rating.\\n\\nThe rupee climbed to 43.305 per US dollar...   \n",
       "22  Mixed signals from French economy\\n\\nThe French economy picked up speed at the end of 2004, official figures show - but still looks set to have fallen short of the government's hopes.\\n\\nAccording...   \n",
       "27  Strong demand triggers oil rally\\n\\nCrude oil prices surged back above the $47 a barrel mark on Thursday after an energy market watchdog raised its forecasts for global demand.\\n\\nThe Internationa...   \n",
       "\n",
       "                                                                                                                                                                                               cleaned_text  \\\n",
       "5   japan narrowly escapes recession japan economy teetered brink technical recession three months september figures show revised figures indicated growth similar sized contraction previous quarter an...   \n",
       "10  ask jeeves tips online ad revival ask jeeves become third leading online search firm week thank revival internet advertising improving fortunes firm revenue nearly tripled fourth quarter exceeding...   \n",
       "17  india rupee hits five year high india rupee hit five year high standard poor raised country foreign currency rating rupee climbed per us dollar thursday close currency gained almost past three ses...   \n",
       "22  mixed signals french economy french economy picked speed end official figures show still looks set fallen short government hopes according state statistics body insee growth three months december ...   \n",
       "27  strong demand triggers oil rally crude oil prices surged back barrel mark thursday energy market watchdog raised forecasts global demand international energy agency warned demand opec crude first ...   \n",
       "\n",
       "                                                                                                                                                                                            cleaned_summary  \\\n",
       "5   sumhajime annual basis data suggests annual growth suggesting much hesitant recovery previously thought common technical definition recession two successive quarters negative growth revised figure...   \n",
       "10  sumhajime ask jeeves become third leading online search firm week thank revival internet advertising improving fortunes profit quarter dwarfed announced rival google earlier week quarter yahoo ear...   \n",
       "17  sumhajime india rupee hit five year high standard poor raised country foreign currency rating india foreign currency rating one notch investment grade starts bbb rates borrowers creditworthiness l...   \n",
       "22  sumhajime despite apparent shortfall annual economic growth good quarterly figures called flash estimate mark continuing trend improving indicators health french economy also friday france industr...   \n",
       "27  sumhajime crude oil prices surged back barrel mark thursday energy market watchdog raised forecasts global demand us department energy reported crude stockpiles fallen barrels international energy...   \n",
       "\n",
       "    text_len  summary_len  \n",
       "5        110           41  \n",
       "10       105           49  \n",
       "17       101           38  \n",
       "22       119           49  \n",
       "27       131           46  "
      ]
     },
     "execution_count": 20,
     "metadata": {},
     "output_type": "execute_result"
    }
   ],
   "source": [
    "df_m.head()"
   ]
  },
  {
   "cell_type": "code",
   "execution_count": 21,
   "id": "04d54a63",
   "metadata": {},
   "outputs": [],
   "source": [
    "df_m.to_csv('data_bbc.csv')  "
   ]
  },
  {
   "cell_type": "code",
   "execution_count": null,
   "id": "938138cf",
   "metadata": {},
   "outputs": [],
   "source": []
  }
 ],
 "metadata": {
  "kernelspec": {
   "display_name": "Python 3",
   "language": "python",
   "name": "python3"
  },
  "language_info": {
   "codemirror_mode": {
    "name": "ipython",
    "version": 3
   },
   "file_extension": ".py",
   "mimetype": "text/x-python",
   "name": "python",
   "nbconvert_exporter": "python",
   "pygments_lexer": "ipython3",
   "version": "3.8.8"
  }
 },
 "nbformat": 4,
 "nbformat_minor": 5
}
