{
 "cells": [
  {
   "cell_type": "markdown",
   "id": "79e5ddea",
   "metadata": {},
   "source": [
    "# Modelling of Abstractive Text Summarization"
   ]
  },
  {
   "cell_type": "markdown",
   "id": "e18cd0a4",
   "metadata": {},
   "source": [
    "Data source:\n",
    "<br> https://www.kaggle.com/snap/amazon-fine-food-reviews\n",
    "<br> Code adpated from:\n",
    "<br> https://www.analyticsvidhya.com/blog/2019/06/comprehensive-guide-text-summarization-using-deep-learning-python/\n",
    "<br> https://towardsdatascience.com/how-to-evaluate-text-generation-models-metrics-for-automatic-evaluation-of-nlp-models-e1c251b04ec1\n",
    "}"
   ]
  },
  {
   "cell_type": "markdown",
   "id": "f09496c6",
   "metadata": {},
   "source": [
    "## Import Modules"
   ]
  },
  {
   "cell_type": "code",
   "execution_count": 43,
   "id": "bd1e3b5f",
   "metadata": {},
   "outputs": [],
   "source": [
    "# Import modules and packages\n",
    "import nltk\n",
    "import string\n",
    "import numpy as np  \n",
    "import pandas as pd \n",
    "from nltk.corpus import stopwords  \n",
    "from tensorflow.keras.layers import Input, LSTM, Embedding, Dense, Concatenate, TimeDistributed, Bidirectional\n",
    "from tensorflow.keras.models import Model, load_model\n",
    "from tensorflow.keras.callbacks import EarlyStopping\n",
    "import warnings\n",
    "pd.set_option(\"display.max_colwidth\", 200)\n",
    "warnings.filterwarnings(\"ignore\")\n",
    "from utils import AttentionLayer  "
   ]
  },
  {
   "cell_type": "markdown",
   "id": "6895b979",
   "metadata": {},
   "source": [
    "## Load Cleaned Data"
   ]
  },
  {
   "cell_type": "code",
   "execution_count": 44,
   "id": "dc4e2af4",
   "metadata": {},
   "outputs": [
    {
     "data": {
      "text/plain": [
       "(4771, 4771, 531, 531)"
      ]
     },
     "execution_count": 44,
     "metadata": {},
     "output_type": "execute_result"
    }
   ],
   "source": [
    "# Load master table\n",
    "df = pd.read_csv(\"data.csv\")\n",
    "df = df.loc[:,['cleaned_text','cleaned_summary']]\n",
    "\n",
    "# Set maximum length of inputs to model\n",
    "max_text_len = 30\n",
    "max_summary_len = 8\n",
    "\n",
    "# Train test split, 90% training set and 10% test set\n",
    "from sklearn.model_selection import train_test_split\n",
    "\n",
    "x_train, x_test, y_train, y_test = train_test_split(np.array(df['cleaned_text']),\n",
    "                                                    np.array(df['cleaned_summary']),\n",
    "                                                    test_size=0.1, random_state=0, shuffle=True) \n",
    "\n",
    "len(y_train), len(x_train), len(y_test), len(x_test)"
   ]
  },
  {
   "cell_type": "markdown",
   "id": "2ea55758",
   "metadata": {},
   "source": [
    "## Prepare Tokenizer"
   ]
  },
  {
   "cell_type": "markdown",
   "id": "31e5eae2",
   "metadata": {},
   "source": [
    "### Text Tokenizer"
   ]
  },
  {
   "cell_type": "code",
   "execution_count": 45,
   "id": "3fe63677",
   "metadata": {},
   "outputs": [],
   "source": [
    "from keras.preprocessing.text import Tokenizer \n",
    "from keras.preprocessing.sequence import pad_sequences\n",
    "\n",
    "# Prepare a tokenizer for reviews on training data\n",
    "# filters='!\"#&()*+,-/:;<=>?@[\\\\]^_`{|}~\\t\\n', lower=False, split=' ', char_level=False, oov_token=False\n",
    "x_tokenizer = Tokenizer()\n",
    "x_tokenizer.fit_on_texts(list(x_train))"
   ]
  },
  {
   "cell_type": "code",
   "execution_count": 46,
   "id": "749b1418",
   "metadata": {},
   "outputs": [
    {
     "name": "stdout",
     "output_type": "stream",
     "text": [
      "% of rare words in vocabulary: 68.6033791175398\n",
      "Total Coverage of rare words: 9.234666728362214\n"
     ]
    }
   ],
   "source": [
    "# Remove rare words with count below threshold\n",
    "threshold = 4\n",
    "\n",
    "count = 0\n",
    "total_count = 0\n",
    "freq = 0\n",
    "tot_freq = 0\n",
    "\n",
    "for key, value in x_tokenizer.word_counts.items():\n",
    "    total_count = total_count + 1\n",
    "    tot_freq = tot_freq + value\n",
    "    if(value < threshold):\n",
    "        count = count + 1\n",
    "        freq = freq + value\n",
    "    \n",
    "print(\"% of rare words in vocabulary:\", (count/total_count)*100)\n",
    "print(\"Total Coverage of rare words:\", (freq/tot_freq)*100)"
   ]
  },
  {
   "cell_type": "code",
   "execution_count": 47,
   "id": "756b66bd",
   "metadata": {},
   "outputs": [
    {
     "name": "stdout",
     "output_type": "stream",
     "text": [
      "2584\n"
     ]
    }
   ],
   "source": [
    "# Prepare a tokenizer for reviews on training data, remove rare words\n",
    "x_tokenizer = Tokenizer(num_words=total_count-count)\n",
    "x_tokenizer.fit_on_texts(list(x_train))\n",
    "\n",
    "# Convert text sequences into integer sequences\n",
    "x_train_seq = x_tokenizer.texts_to_sequences(x_train) \n",
    "x_test_seq = x_tokenizer.texts_to_sequences(x_test)\n",
    "\n",
    "# Padding zero up to maximum length\n",
    "x_train = pad_sequences(x_train_seq, maxlen=max_text_len, padding='post') \n",
    "x_test = pad_sequences(x_test_seq, maxlen=max_text_len, padding='post')\n",
    "\n",
    "# Size of vocab (+1 for padding token)\n",
    "x_voc = x_tokenizer.num_words + 1\n",
    "print(x_voc)"
   ]
  },
  {
   "cell_type": "code",
   "execution_count": 48,
   "id": "7ac1b9ac",
   "metadata": {},
   "outputs": [
    {
     "data": {
      "text/plain": [
       "(5644, 8227, 7983, 86446)"
      ]
     },
     "execution_count": 48,
     "metadata": {},
     "output_type": "execute_result"
    }
   ],
   "source": [
    "count, total_count, freq, tot_freq"
   ]
  },
  {
   "cell_type": "markdown",
   "id": "f990e1ed",
   "metadata": {},
   "source": [
    "### Summary Tokenizer "
   ]
  },
  {
   "cell_type": "code",
   "execution_count": 49,
   "id": "aeaa337f",
   "metadata": {},
   "outputs": [],
   "source": [
    "# Prepare a tokenizer for summary on training data \n",
    "y_tokenizer = Tokenizer()\n",
    "y_tokenizer.fit_on_texts(list(y_train))"
   ]
  },
  {
   "cell_type": "code",
   "execution_count": 50,
   "id": "f86741a4",
   "metadata": {},
   "outputs": [
    {
     "name": "stdout",
     "output_type": "stream",
     "text": [
      "% of rare words in vocabulary: 69.53693073096058\n",
      "Total Coverage of rare words: 8.822230253383125\n"
     ]
    }
   ],
   "source": [
    "# Remove rare words with count below threshold\n",
    "threshold = 6\n",
    "\n",
    "count = 0\n",
    "total_count = 0\n",
    "freq = 0\n",
    "tot_freq = 0\n",
    "\n",
    "for key, value in y_tokenizer.word_counts.items():\n",
    "    total_count = total_count + 1\n",
    "    tot_freq = tot_freq + value\n",
    "    if(value < threshold):\n",
    "        count = count + 1\n",
    "        freq = freq + value\n",
    "    \n",
    "print(\"% of rare words in vocabulary:\", (count/total_count)*100)\n",
    "print(\"Total Coverage of rare words:\", (freq/tot_freq)*100)"
   ]
  },
  {
   "cell_type": "code",
   "execution_count": 51,
   "id": "a25802fb",
   "metadata": {},
   "outputs": [
    {
     "name": "stdout",
     "output_type": "stream",
     "text": [
      "797\n"
     ]
    }
   ],
   "source": [
    "# Prepare a tokenizer for summary on training data \n",
    "y_tokenizer = Tokenizer(num_words=total_count-count)\n",
    "y_tokenizer.fit_on_texts(list(y_train))\n",
    "\n",
    "# Convert summary sequences into integer sequences\n",
    "y_train_seq = y_tokenizer.texts_to_sequences(y_train) \n",
    "y_test_seq = y_tokenizer.texts_to_sequences(y_test) \n",
    "\n",
    "# Padding zero up to maximum length\n",
    "y_train = pad_sequences(y_train_seq, maxlen=max_summary_len, padding='post')\n",
    "y_test = pad_sequences(y_test_seq, maxlen=max_summary_len, padding='post')\n",
    "\n",
    "# Size of vocab (+1 for padding token)\n",
    "y_voc = y_tokenizer.num_words +1\n",
    "print(y_voc)"
   ]
  },
  {
   "cell_type": "code",
   "execution_count": 52,
   "id": "60f16a3b",
   "metadata": {},
   "outputs": [
    {
     "data": {
      "text/plain": [
       "(1817, 2613, 2197, 24903)"
      ]
     },
     "execution_count": 52,
     "metadata": {},
     "output_type": "execute_result"
    }
   ],
   "source": [
    "count, total_count, freq, tot_freq"
   ]
  },
  {
   "cell_type": "code",
   "execution_count": 53,
   "id": "7cfec7b3",
   "metadata": {},
   "outputs": [
    {
     "data": {
      "text/plain": [
       "(4771, 4771)"
      ]
     },
     "execution_count": 53,
     "metadata": {},
     "output_type": "execute_result"
    }
   ],
   "source": [
    "# Check word count of start token is equal to length of training data\n",
    "y_tokenizer.word_counts['sumhajime'],len(y_train)   "
   ]
  },
  {
   "cell_type": "code",
   "execution_count": 54,
   "id": "e8520f03",
   "metadata": {},
   "outputs": [],
   "source": [
    "# Delete rows that contain only start and end tokens\n",
    "\n",
    "ind = []\n",
    "for i in range(len(y_train)):\n",
    "    cnt=0\n",
    "    for j in y_train[i]:\n",
    "        if j!=0:\n",
    "            cnt=cnt+1\n",
    "    if(cnt==2):\n",
    "        ind.append(i)\n",
    "\n",
    "y_train = np.delete(y_train, ind, axis=0)\n",
    "x_train = np.delete(x_train, ind, axis=0)\n",
    "\n",
    "ind = []\n",
    "for i in range(len(y_test)):\n",
    "    cnt=0\n",
    "    for j in y_test[i]:\n",
    "        if j!=0:\n",
    "            cnt=cnt+1\n",
    "    if(cnt==2):\n",
    "        ind.append(i)\n",
    "\n",
    "y_test = np.delete(y_test, ind, axis=0)\n",
    "x_test = np.delete(x_test, ind, axis=0)"
   ]
  },
  {
   "cell_type": "code",
   "execution_count": 55,
   "id": "a24dcff2",
   "metadata": {},
   "outputs": [
    {
     "data": {
      "text/plain": [
       "(4576, 4576, 501, 501)"
      ]
     },
     "execution_count": 55,
     "metadata": {},
     "output_type": "execute_result"
    }
   ],
   "source": [
    "len(y_train), len(x_train), len(y_test), len(x_test)"
   ]
  },
  {
   "cell_type": "markdown",
   "id": "8cc5ff64",
   "metadata": {},
   "source": [
    "## Modelling"
   ]
  },
  {
   "cell_type": "markdown",
   "id": "3adf139b",
   "metadata": {},
   "source": [
    "Return Sequences = True: when True, LSTM produces the hidden state and cell state for every timestep\n",
    "\n",
    "Return State = True: when True, LSTM produces the hidden state and cell state of the last timestep only\n",
    "\n",
    "Initial State: used to initialize the internal states of the LSTM for the first timestep\n",
    "\n",
    "Stacked LSTM: Stacked LSTM has multiple layers of LSTM stacked on top of each other, which leads to a better representation of the sequence. \n",
    "\n",
    "In the following, we build a 3 stacked LSTM for the encoder:"
   ]
  },
  {
   "cell_type": "code",
   "execution_count": 56,
   "id": "e5a81105",
   "metadata": {},
   "outputs": [
    {
     "name": "stdout",
     "output_type": "stream",
     "text": [
      "Model: \"model\"\n",
      "__________________________________________________________________________________________________\n",
      " Layer (type)                   Output Shape         Param #     Connected to                     \n",
      "==================================================================================================\n",
      " input_1 (InputLayer)           [(None, 30)]         0           []                               \n",
      "                                                                                                  \n",
      " embedding (Embedding)          (None, 30, 100)      258400      ['input_1[0][0]']                \n",
      "                                                                                                  \n",
      " lstm (LSTM)                    [(None, 30, 300),    481200      ['embedding[0][0]']              \n",
      "                                 (None, 300),                                                     \n",
      "                                 (None, 300)]                                                     \n",
      "                                                                                                  \n",
      " input_2 (InputLayer)           [(None, None)]       0           []                               \n",
      "                                                                                                  \n",
      " lstm_1 (LSTM)                  [(None, 30, 300),    721200      ['lstm[0][0]']                   \n",
      "                                 (None, 300),                                                     \n",
      "                                 (None, 300)]                                                     \n",
      "                                                                                                  \n",
      " embedding_1 (Embedding)        (None, None, 100)    79700       ['input_2[0][0]']                \n",
      "                                                                                                  \n",
      " lstm_2 (LSTM)                  [(None, 30, 300),    721200      ['lstm_1[0][0]']                 \n",
      "                                 (None, 300),                                                     \n",
      "                                 (None, 300)]                                                     \n",
      "                                                                                                  \n",
      " lstm_3 (LSTM)                  [(None, None, 300),  481200      ['embedding_1[0][0]',            \n",
      "                                 (None, 300),                     'lstm_2[0][1]',                 \n",
      "                                 (None, 300)]                     'lstm_2[0][2]']                 \n",
      "                                                                                                  \n",
      " attention_layer (AttentionLaye  [(None, None, 300),  180300     ['lstm_2[0][0]',                 \n",
      " r)                              (None, None, 30)]                'lstm_3[0][0]']                 \n",
      "                                                                                                  \n",
      " concat_layer (Concatenate)     (None, None, 600)    0           ['lstm_3[0][0]',                 \n",
      "                                                                  'attention_layer[0][0]']        \n",
      "                                                                                                  \n",
      " time_distributed (TimeDistribu  (None, None, 797)   478997      ['concat_layer[0][0]']           \n",
      " ted)                                                                                             \n",
      "                                                                                                  \n",
      "==================================================================================================\n",
      "Total params: 3,402,197\n",
      "Trainable params: 3,402,197\n",
      "Non-trainable params: 0\n",
      "__________________________________________________________________________________________________\n"
     ]
    }
   ],
   "source": [
    "from keras import backend as K \n",
    "K.clear_session()\n",
    "\n",
    "latent_dim = 300\n",
    "embedding_dim=100\n",
    "\n",
    "# Encoder \n",
    "encoder_inputs = Input(shape=(max_text_len, ))\n",
    "\n",
    "# Embedding layer\n",
    "enc_emb =  Embedding(x_voc, embedding_dim,trainable=True)(encoder_inputs)\n",
    "\n",
    "# Encoder LSTM 1\n",
    "encoder_lstm1 = LSTM(latent_dim, return_sequences=True, return_state=True, dropout=0.4, \n",
    "                     recurrent_dropout=0.4)\n",
    "encoder_output1, state_h1, state_c1 = encoder_lstm1(enc_emb)\n",
    "\n",
    "# Encoder LSTM 2\n",
    "encoder_lstm2 = LSTM(latent_dim, return_sequences=True, return_state=True, dropout=0.4,\n",
    "                     recurrent_dropout=0.4)\n",
    "encoder_output2, state_h2, state_c2 = encoder_lstm2(encoder_output1)\n",
    "\n",
    "# Encoder LSTM 3\n",
    "encoder_lstm3 = LSTM(latent_dim, return_state=True, return_sequences=True,dropout=0.4,\n",
    "                     recurrent_dropout=0.4)\n",
    "encoder_outputs, state_h, state_c= encoder_lstm3(encoder_output2)\n",
    "\n",
    "# Set up the decoder\n",
    "decoder_inputs = Input(shape=(None, ))\n",
    "\n",
    "# Embedding layer\n",
    "dec_emb_layer = Embedding(y_voc, embedding_dim, trainable=True)\n",
    "dec_emb = dec_emb_layer(decoder_inputs)\n",
    "\n",
    "# LSTM using encoder_states as initial state\n",
    "decoder_lstm = LSTM(latent_dim, return_sequences=True, return_state=True,\n",
    "                     dropout=0.4, recurrent_dropout=0.4)\n",
    "decoder_outputs, decoder_fwd_state, decoder_back_state = decoder_lstm(dec_emb, initial_state=[state_h, state_c])\n",
    "\n",
    "#Attention Layer\n",
    "attn_layer = AttentionLayer(name='attention_layer')\n",
    "attn_out, attn_states = attn_layer([encoder_outputs, decoder_outputs])   \n",
    "\n",
    "# Concat attention output and decoder LSTM output \n",
    "decoder_concat_input = Concatenate(axis=-1, name='concat_layer')([decoder_outputs, attn_out])\n",
    "\n",
    "# Dense layer\n",
    "decoder_dense =  TimeDistributed(Dense(y_voc, activation='softmax'))\n",
    "decoder_outputs = decoder_dense(decoder_concat_input)\n",
    "\n",
    "# Define the model\n",
    "model = Model([encoder_inputs, decoder_inputs], decoder_outputs) \n",
    "model.summary()"
   ]
  },
  {
   "cell_type": "code",
   "execution_count": 57,
   "id": "b0f2d032",
   "metadata": {
    "scrolled": false
   },
   "outputs": [
    {
     "name": "stdout",
     "output_type": "stream",
     "text": [
      "Epoch 1/50\n",
      "36/36 [==============================] - 97s 2s/step - loss: 3.2157 - val_loss: 2.6106\n",
      "Epoch 2/50\n",
      "36/36 [==============================] - 93s 3s/step - loss: 2.6374 - val_loss: 2.3406\n",
      "Epoch 3/50\n",
      "36/36 [==============================] - 139s 4s/step - loss: 2.4853 - val_loss: 2.2690\n",
      "Epoch 4/50\n",
      "36/36 [==============================] - 142s 4s/step - loss: 2.4204 - val_loss: 2.2249\n",
      "Epoch 5/50\n",
      "36/36 [==============================] - 144s 4s/step - loss: 2.3701 - val_loss: 2.2126\n",
      "Epoch 6/50\n",
      "36/36 [==============================] - 144s 4s/step - loss: 2.3193 - val_loss: 2.1982\n",
      "Epoch 7/50\n",
      "36/36 [==============================] - 140s 4s/step - loss: 2.2883 - val_loss: 2.1986\n",
      "Epoch 8/50\n",
      "36/36 [==============================] - 142s 4s/step - loss: 2.2604 - val_loss: 2.1904\n",
      "Epoch 9/50\n",
      "36/36 [==============================] - 141s 4s/step - loss: 2.2300 - val_loss: 2.1945\n",
      "Epoch 10/50\n",
      "36/36 [==============================] - 143s 4s/step - loss: 2.2043 - val_loss: 2.1779\n",
      "Epoch 11/50\n",
      "36/36 [==============================] - 727s 21s/step - loss: 2.1735 - val_loss: 2.1655\n",
      "Epoch 12/50\n",
      "36/36 [==============================] - 98s 3s/step - loss: 2.1446 - val_loss: 2.1476\n",
      "Epoch 13/50\n",
      "36/36 [==============================] - 89s 2s/step - loss: 2.1051 - val_loss: 2.1463\n",
      "Epoch 14/50\n",
      "36/36 [==============================] - 98s 3s/step - loss: 2.0692 - val_loss: 2.1501\n",
      "Epoch 15/50\n",
      "36/36 [==============================] - 111s 3s/step - loss: 2.0330 - val_loss: 2.1400\n",
      "Epoch 16/50\n",
      "36/36 [==============================] - 123s 3s/step - loss: 1.9960 - val_loss: 2.1144\n",
      "Epoch 17/50\n",
      "36/36 [==============================] - 143s 4s/step - loss: 1.9553 - val_loss: 2.1239\n",
      "Epoch 18/50\n",
      "36/36 [==============================] - ETA: 0s - loss: 1.9120Restoring model weights from the end of the best epoch: 16.\n",
      "36/36 [==============================] - 150s 4s/step - loss: 1.9120 - val_loss: 2.1257\n",
      "Epoch 18: early stopping\n"
     ]
    }
   ],
   "source": [
    "# Specify loss function with sparse categorical cross-entropy\n",
    "model.compile(optimizer='rmsprop', loss='sparse_categorical_crossentropy')\n",
    "\n",
    "# Specify early stopping with validation loss\n",
    "es = EarlyStopping(monitor='val_loss', mode='min', verbose=1, patience=2, \n",
    "                   restore_best_weights=True)\n",
    "\n",
    "# Specify batch size\n",
    "history = model.fit([x_train, y_train[:,:-1]], \n",
    "                    y_train.reshape(y_train.shape[0], y_train.shape[1], 1)[:,1:],\n",
    "                    epochs=50, callbacks=[es], batch_size=128, \n",
    "                    validation_data = ([x_test, y_test[:,:-1]], \n",
    "                                       y_test.reshape(y_test.shape[0],y_test.shape[1], 1)[:,1:]))\n",
    "\n",
    "# Save best model\n",
    "model.save('model.h5')"
   ]
  },
  {
   "cell_type": "markdown",
   "id": "fba64286",
   "metadata": {},
   "source": [
    "### Diagnostic plot"
   ]
  },
  {
   "cell_type": "code",
   "execution_count": 58,
   "id": "0f5d3632",
   "metadata": {},
   "outputs": [
    {
     "data": {
      "image/png": "[encoded data removed]",
      "text/plain": [
       "<Figure size 432x288 with 1 Axes>"
      ]
     },
     "metadata": {
      "needs_background": "light"
     },
     "output_type": "display_data"
    }
   ],
   "source": [
    "from matplotlib import pyplot \n",
    "pyplot.plot(history.history['loss'], label='train') \n",
    "pyplot.plot(history.history['val_loss'], label='test') \n",
    "pyplot.legend() \n",
    "pyplot.savefig('diagnostic_plot')\n",
    "pyplot.show()"
   ]
  },
  {
   "cell_type": "code",
   "execution_count": 59,
   "id": "28247f1a",
   "metadata": {},
   "outputs": [],
   "source": [
    "# Build dictionary to convert index to word for target and source vocabulary\n",
    "reverse_target_word_index=y_tokenizer.index_word\n",
    "reverse_source_word_index=x_tokenizer.index_word\n",
    "target_word_index=y_tokenizer.word_index"
   ]
  },
  {
   "cell_type": "markdown",
   "id": "83af78a4",
   "metadata": {},
   "source": [
    "### Inference"
   ]
  },
  {
   "cell_type": "markdown",
   "id": "af61fda3",
   "metadata": {},
   "source": [
    "Set up the inference for the encoder and decoder:"
   ]
  },
  {
   "cell_type": "code",
   "execution_count": 60,
   "id": "7af7e609",
   "metadata": {},
   "outputs": [],
   "source": [
    "# Encode the input sequence to get the feature vector\n",
    "encoder_model = Model(inputs=encoder_inputs,outputs=[encoder_outputs, state_h, state_c])\n",
    "\n",
    "# Decoder setup\n",
    "# Tensors below will hold the states of the previous time step\n",
    "decoder_state_input_h = Input(shape=(latent_dim,))\n",
    "decoder_state_input_c = Input(shape=(latent_dim,))\n",
    "decoder_hidden_state_input = Input(shape=(max_text_len,latent_dim))\n",
    "\n",
    "# Get the embeddings of the decoder sequence\n",
    "dec_emb2 = dec_emb_layer(decoder_inputs) \n",
    "\n",
    "# To predict the next word in the sequence, set the initial states to the states from the previous time step\n",
    "decoder_outputs2, state_h2, state_c2 = decoder_lstm(dec_emb2, initial_state=[decoder_state_input_h, decoder_state_input_c])\n",
    "\n",
    "#attention inference\n",
    "attn_out_inf, attn_states_inf = attn_layer([decoder_hidden_state_input, decoder_outputs2])\n",
    "decoder_inf_concat = Concatenate(axis=-1, name='concat')([decoder_outputs2, attn_out_inf])\n",
    "\n",
    "# A dense softmax layer to generate prob dist. over the target vocabulary\n",
    "decoder_outputs2 = decoder_dense(decoder_inf_concat) \n",
    "\n",
    "# Final decoder model\n",
    "decoder_model = Model(\n",
    "    [decoder_inputs] + [decoder_hidden_state_input,decoder_state_input_h, decoder_state_input_c],\n",
    "    [decoder_outputs2] + [state_h2, state_c2])"
   ]
  },
  {
   "cell_type": "code",
   "execution_count": 61,
   "id": "61c97f89",
   "metadata": {},
   "outputs": [],
   "source": [
    "# Define function to implement inference process \n",
    "def decode_sequence(input_seq):\n",
    "    # Encode the input as state vectors.\n",
    "    e_out, e_h, e_c = encoder_model.predict(input_seq)\n",
    "    \n",
    "    # Generate empty target sequence of length 1.\n",
    "    target_seq = np.zeros((1,1))\n",
    "    \n",
    "    # Populate the first word of target sequence with the start word.\n",
    "    target_seq[0, 0] = target_word_index['sumhajime']\n",
    "\n",
    "    stop_condition = False\n",
    "    decoded_sentence = ''\n",
    "    while not stop_condition:\n",
    "      \n",
    "        output_tokens, h, c = decoder_model.predict([target_seq] + [e_out, e_h, e_c])\n",
    "\n",
    "        # Sample a token\n",
    "        sampled_token_index = np.argmax(output_tokens[0, -1, :])\n",
    "        sampled_token = reverse_target_word_index[sampled_token_index]\n",
    "        \n",
    "        if(sampled_token!='sumowari'):\n",
    "            decoded_sentence += ' ' + sampled_token\n",
    "\n",
    "        # Exit condition: either hit max length or find stop word.\n",
    "        if (sampled_token == 'sumowari' or len(decoded_sentence.split()) >= (max_summary_len-1)):\n",
    "            stop_condition = True\n",
    "\n",
    "        # Update the target sequence (of length 1).\n",
    "        target_seq = np.zeros((1,1))\n",
    "        target_seq[0, 0] = sampled_token_index\n",
    "\n",
    "        # Update internal states\n",
    "        e_h, e_c = h, c\n",
    "\n",
    "    return decoded_sentence"
   ]
  },
  {
   "cell_type": "code",
   "execution_count": 62,
   "id": "03e1857c",
   "metadata": {},
   "outputs": [],
   "source": [
    "# Define functions to convert an integer sequence to a word sequence for summary and text\n",
    "def seq2summary(input_seq):\n",
    "    newString=''\n",
    "    for i in input_seq:\n",
    "        if((i!=0 and i!=target_word_index['sumhajime']) and i!=target_word_index['sumowari']):\n",
    "            newString = newString + reverse_target_word_index[i] + ' '\n",
    "    return newString\n",
    "\n",
    "def seq2text(input_seq):\n",
    "    newString=''\n",
    "    for i in input_seq:\n",
    "        if(i!=0):\n",
    "            newString = newString + reverse_source_word_index[i] + ' '\n",
    "    return newString"
   ]
  },
  {
   "cell_type": "code",
   "execution_count": 63,
   "id": "45ed2dca",
   "metadata": {},
   "outputs": [
    {
     "name": "stdout",
     "output_type": "stream",
     "text": [
      "Text: love product best natural sweetener ever tried tried many use also pancake syrup substitute honey peanut butter honey sandwich last long time good value \n",
      "Original Summary: the best \n",
      "Predicted summary:  best\n",
      "\n",
      "\n",
      "Text: searching alternative sausages years eaten many gross sausages best substitute found \n",
      "Original Summary: great \n",
      "Predicted summary:  great\n",
      "\n",
      "\n",
      "Text: received shown mother law likes quit carrying great could get amazon \n",
      "Original Summary: altoids \n",
      "Predicted summary:  great\n",
      "\n",
      "\n",
      "Text: year old son diagnosed allergic soy peanuts sunflower butter found free allergens processed shared product buy son likes pb crackers sugars added much healthy \n",
      "Original Summary: only sunflower butter we will buy \n",
      "Predicted summary:  tasty\n",
      "\n",
      "\n",
      "Text: favorite coffees tried smooth flavorful without flavored coffee definite treat anytime day \n",
      "Original Summary: great brew \n",
      "Predicted summary:  great coffee\n",
      "\n",
      "\n",
      "Text: excellent tasting remember order later \n",
      "Original Summary: senseo coffee french vanilla caramel \n",
      "Predicted summary:  great\n",
      "\n",
      "\n",
      "Text: plant arrived dead cost much ship want kind return know better buy plant line \n",
      "Original Summary: on \n",
      "Predicted summary:  not\n",
      "\n",
      "\n",
      "Text: love chips delicious hard eat one bag flavors allow taste favorite flavor cheese ones go ahead try delicious \n",
      "Original Summary: pop delicious \n",
      "Predicted summary:  yummy\n",
      "\n",
      "\n",
      "Text: best licorice ever least best ever problem pack gone hard concentrate work go panda cannot think anything panda \n",
      "Original Summary: for more panda \n",
      "Predicted summary:  best chips\n",
      "\n",
      "\n",
      "Text: coconut flavored either like actually surprised since big fan coconut liked coffee favorite nice occasion \n",
      "Original Summary: did not say anywhere it was coconut \n",
      "Predicted summary:  good\n",
      "\n",
      "\n",
      "Text: bought brand horrible amazon needs source offer ladies brand wrappers superior anything market today \n",
      "Original Summary: amazon please brand rice \n",
      "Predicted summary:  not\n",
      "\n",
      "\n",
      "Text: full bodied tea loss flavor even though decaffeinated comes stored heavy plastic bag ensure freshness shipping great value good tea \n",
      "Original Summary: great value \n",
      "Predicted summary:  great tea\n",
      "\n",
      "\n",
      "Text: cat picky tried every brand flavor cat favorite \n",
      "Original Summary: my cat favorite \n",
      "Predicted summary:  great\n",
      "\n",
      "\n",
      "Text: dogs love special treats \n",
      "Original Summary: my dogs love them \n",
      "Predicted summary:  great\n",
      "\n",
      "\n",
      "Text: came good shape plant came little two dead worth every penny six head still happy \n",
      "Original Summary: little \n",
      "Predicted summary:  not\n",
      "\n",
      "\n",
      "Text: enjoyed water refreshing find stomach bottled waters problem water nice bottles water comes \n",
      "Original Summary: water \n",
      "Predicted summary:  the best\n",
      "\n",
      "\n",
      "Text: cookies enough crave sweet little snack yr old likes say pops mouth \n",
      "Original Summary: cookies \n",
      "Predicted summary:  great\n",
      "\n",
      "\n",
      "Text: flavor horrible many flavors much better hawaiian hazelnut great breakfast bed awesome \n",
      "Original Summary: not good at all \n",
      "Predicted summary:  not good\n",
      "\n",
      "\n",
      "Text: bought friend loves cherry ones hard find kept half admit gone time \n",
      "Original Summary: delicious and hard to find \n",
      "Predicted summary:  great\n",
      "\n",
      "\n",
      "Text: fan english irish breakfast teas found tea weak flavored like milder weaker teas may like robust flavors clear one \n",
      "Original Summary: very weak tea \n",
      "Predicted summary:  great coffee\n",
      "\n",
      "\n"
     ]
    }
   ],
   "source": [
    "# Print out summaries predicted for the training set\n",
    "for i in range(0,20):\n",
    "    print(\"Text:\", seq2text(x_train[i]))\n",
    "    print(\"Original Summary:\", seq2summary(y_train[i]))\n",
    "    print(\"Predicted summary:\", decode_sequence(x_train[i].reshape(1, max_text_len)))\n",
    "    print(\"\\n\")\n"
   ]
  },
  {
   "cell_type": "code",
   "execution_count": 64,
   "id": "653cb7f9",
   "metadata": {},
   "outputs": [],
   "source": [
    "# Print out summaries predicted for the test set\n",
    "test_text_ref = []\n",
    "test_sum_ref = []\n",
    "test_sum_pred = []\n",
    "for i in range(0, len(x_test)):\n",
    "    test_text_ref.append(seq2text(x_test[i]))\n",
    "    test_sum_ref.append(seq2summary(y_test[i]))\n",
    "    test_sum_pred.append(decode_sequence(x_test[i].reshape(1, max_text_len)))"
   ]
  },
  {
   "cell_type": "code",
   "execution_count": 65,
   "id": "bb8e88f9",
   "metadata": {},
   "outputs": [],
   "source": [
    "df_test = pd.DataFrame({'ori_text': test_text_ref, 'ori_sum': test_sum_ref, 'pred': test_sum_pred})\n",
    "df_test.to_csv('df_test.csv') "
   ]
  },
  {
   "cell_type": "code",
   "execution_count": 66,
   "id": "d18f694f",
   "metadata": {},
   "outputs": [],
   "source": [
    "# Print out summaries predicted for the train set\n",
    "train_text_ref = []\n",
    "train_sum_ref = []\n",
    "train_sum_pred = []\n",
    "for i in range(0, len(x_train)):\n",
    "    train_text_ref.append(seq2text(x_train[i]))\n",
    "    train_sum_ref.append(seq2summary(y_train[i]))\n",
    "    train_sum_pred.append(decode_sequence(x_train[i].reshape(1, max_text_len)))"
   ]
  },
  {
   "cell_type": "code",
   "execution_count": 67,
   "id": "46ac69af",
   "metadata": {},
   "outputs": [],
   "source": [
    "df_train = pd.DataFrame({'ori_text': train_text_ref, 'ori_sum': train_sum_ref, 'pred': train_sum_pred})\n",
    "df_train.to_csv('df_train.csv') "
   ]
  },
  {
   "cell_type": "markdown",
   "id": "9efced7d",
   "metadata": {},
   "source": [
    "# Performance Evaluation Metrics"
   ]
  },
  {
   "cell_type": "code",
   "execution_count": 81,
   "id": "63ba1977",
   "metadata": {},
   "outputs": [],
   "source": [
    "from nltk.translate.bleu_score import SmoothingFunction, corpus_bleu, sentence_bleu\n",
    "\n",
    "def bleu(ref, gen):\n",
    "    ''' \n",
    "    calculate pair wise bleu score. uses nltk implementation\n",
    "    Args:\n",
    "        references : a list of reference sentences \n",
    "        candidates : a list of candidate(generated) sentences\n",
    "    Returns:\n",
    "        bleu score(float)\n",
    "    '''\n",
    "    ref_bleu = []\n",
    "    gen_bleu = []\n",
    "    for l in gen:\n",
    "        gen_bleu.append(l.split())\n",
    "    for i,l in enumerate(ref):\n",
    "        ref_bleu.append([l.split()])\n",
    "    cc = SmoothingFunction()\n",
    "    score_bleu = corpus_bleu(ref_bleu, gen_bleu, weights=(0, 1, 0, 0), smoothing_function=cc.method4)\n",
    "    return score_bleu"
   ]
  },
  {
   "cell_type": "code",
   "execution_count": 82,
   "id": "2495383a",
   "metadata": {},
   "outputs": [],
   "source": [
    "#rouge scores for a reference/generated sentence pair\n",
    "#source google seq2seq source code.\n",
    "\n",
    "import itertools\n",
    "\n",
    "#supporting function\n",
    "def _split_into_words(sentences):\n",
    "    \"\"\"Splits multiple sentences into words and flattens the result\"\"\"\n",
    "    return list(itertools.chain(*[_.split(\" \") for _ in sentences]))\n",
    "\n",
    "#supporting function\n",
    "def _get_word_ngrams(n, sentences):\n",
    "    \"\"\"Calculates word n-grams for multiple sentences.\n",
    "    \"\"\"\n",
    "    assert len(sentences) > 0\n",
    "    assert n > 0\n",
    "\n",
    "    words = _split_into_words(sentences)\n",
    "    return _get_ngrams(n, words)\n",
    "\n",
    "#supporting function\n",
    "def _get_ngrams(n, text):\n",
    "    \"\"\"Calcualtes n-grams.\n",
    "    Args:\n",
    "    n: which n-grams to calculate\n",
    "    text: An array of tokens\n",
    "    Returns:\n",
    "    A set of n-grams\n",
    "    \"\"\"\n",
    "    ngram_set = set()\n",
    "    text_length = len(text)\n",
    "    max_index_ngram_start = text_length - n\n",
    "    for i in range(max_index_ngram_start + 1):\n",
    "        ngram_set.add(tuple(text[i:i + n]))\n",
    "    return ngram_set\n",
    "\n",
    "def rouge_n(reference_sentences, evaluated_sentences, n=2):\n",
    "    \"\"\"\n",
    "    Computes ROUGE-N of two text collections of sentences.\n",
    "    Source: http://research.microsoft.com/en-us/um/people/cyl/download/\n",
    "    papers/rouge-working-note-v1.3.1.pdf\n",
    "    Args:\n",
    "    evaluated_sentences: The sentences that have been picked by the summarizer\n",
    "    reference_sentences: The sentences from the referene set\n",
    "    n: Size of ngram.  Defaults to 2.\n",
    "    Returns:\n",
    "    recall rouge score(float)\n",
    "    Raises:\n",
    "    ValueError: raises exception if a param has len <= 0\n",
    "    \"\"\"\n",
    "    if len(evaluated_sentences) <= 0 or len(reference_sentences) <= 0:\n",
    "        raise ValueError(\"Collections must contain at least 1 sentence.\")\n",
    "\n",
    "    evaluated_ngrams = _get_word_ngrams(n, evaluated_sentences)\n",
    "    reference_ngrams = _get_word_ngrams(n, reference_sentences)\n",
    "    reference_count = len(reference_ngrams)\n",
    "    evaluated_count = len(evaluated_ngrams)\n",
    "\n",
    "    # Gets the overlapping ngrams between evaluated and reference\n",
    "    overlapping_ngrams = evaluated_ngrams.intersection(reference_ngrams)\n",
    "    overlapping_count = len(overlapping_ngrams)\n",
    "\n",
    "    # Handle edge case. This isn't mathematically correct, but it's good enough\n",
    "    if evaluated_count == 0:\n",
    "        precision = 0.0\n",
    "    else:\n",
    "        precision = overlapping_count / evaluated_count\n",
    "\n",
    "    if reference_count == 0:\n",
    "        recall = 0.0\n",
    "    else:\n",
    "        recall = overlapping_count / reference_count\n",
    "\n",
    "    f1_score = 2.0 * ((precision * recall) / (precision + recall + 1e-8))\n",
    "\n",
    "    #just returning recall count in rouge, useful for our purpose\n",
    "    return recall"
   ]
  },
  {
   "cell_type": "code",
   "execution_count": 83,
   "id": "8f5e7811",
   "metadata": {},
   "outputs": [],
   "source": [
    "'''\n",
    "read from files - \n",
    "ref.txt : reference texts\n",
    "gen.txt : generated texts (from model)\n",
    "these files should be in the same directory\n",
    "'''\n",
    "\n",
    "def evaluation_metrics(ref_file_path, gen_file_path, n_for_rouge = 2):\n",
    "    '''\n",
    "    Args:\n",
    "        ref_file_path (string) : reference file path -> file containing the reference sentences on each line\n",
    "        gen_file_path (string) : model generated file path -> containing corresponding generated sentences(to reference sentences) on each line\n",
    "    \n",
    "    Returns:\n",
    "        A list containing [bleu, rouge, meteor, ter]\n",
    "    '''\n",
    "    file_ref = open(ref_file_path, 'r')\n",
    "    ref = file_ref.readlines()\n",
    "\n",
    "    file_gen = open(gen_file_path, 'r')\n",
    "    gen = file_gen.readlines()\n",
    "\n",
    "    for i,l in enumerate(gen):\n",
    "        gen[i] = l.strip()\n",
    "\n",
    "    for i,l in enumerate(ref):\n",
    "        ref[i] = l.strip()\n",
    "    \n",
    "    bleu_score = bleu(ref, gen)\n",
    "    rouge_score = rouge_n(ref, gen, n=n_for_rouge)\n",
    "    return [bleu_score, rouge_score]"
   ]
  },
  {
   "cell_type": "code",
   "execution_count": 84,
   "id": "1ba5add7",
   "metadata": {},
   "outputs": [],
   "source": [
    "# Write test lists to files\n",
    "with open('test_sum_ref.txt', 'w') as filehandle:\n",
    "    for listitem in test_sum_ref:\n",
    "        filehandle.write('%s\\n' % listitem)\n",
    "        \n",
    "with open('test_sum_pred.txt', 'w') as filehandle:\n",
    "    for listitem in test_sum_pred:\n",
    "        filehandle.write('%s\\n' % listitem)"
   ]
  },
  {
   "cell_type": "code",
   "execution_count": 85,
   "id": "348be35c",
   "metadata": {},
   "outputs": [
    {
     "data": {
      "text/plain": [
       "[0.0026292793196932944, 0.04473684210526316]"
      ]
     },
     "execution_count": 85,
     "metadata": {},
     "output_type": "execute_result"
    }
   ],
   "source": [
    "scores_test = evaluation_metrics('test_sum_ref.txt', 'test_sum_pred.txt', n_for_rouge = 2)\n",
    "scores_test"
   ]
  },
  {
   "cell_type": "code",
   "execution_count": 86,
   "id": "3c3c4a74",
   "metadata": {},
   "outputs": [],
   "source": [
    "# Write train lists to files\n",
    "with open('train_sum_ref.txt', 'w') as filehandle:\n",
    "    for listitem in train_sum_ref:\n",
    "        filehandle.write('%s\\n' % listitem)\n",
    "        \n",
    "with open('train_sum_pred.txt', 'w') as filehandle:\n",
    "    for listitem in train_sum_pred:\n",
    "        filehandle.write('%s\\n' % listitem)"
   ]
  },
  {
   "cell_type": "code",
   "execution_count": 88,
   "id": "cbd0a51b",
   "metadata": {},
   "outputs": [
    {
     "data": {
      "text/plain": [
       "[0.007841995298494275, 0.023616236162361623]"
      ]
     },
     "execution_count": 88,
     "metadata": {},
     "output_type": "execute_result"
    }
   ],
   "source": [
    "scores_train = evaluation_metrics('train_sum_ref.txt', 'train_sum_pred.txt', n_for_rouge = 2)\n",
    "scores_train"
   ]
  },
  {
   "cell_type": "code",
   "execution_count": null,
   "id": "64f61ada",
   "metadata": {},
   "outputs": [],
   "source": []
  }
 ],
 "metadata": {
  "kernelspec": {
   "display_name": "Python 3",
   "language": "python",
   "name": "python3"
  },
  "language_info": {
   "codemirror_mode": {
    "name": "ipython",
    "version": 3
   },
   "file_extension": ".py",
   "mimetype": "text/x-python",
   "name": "python",
   "nbconvert_exporter": "python",
   "pygments_lexer": "ipython3",
   "version": "3.8.8"
  }
 },
 "nbformat": 4,
 "nbformat_minor": 5
}
