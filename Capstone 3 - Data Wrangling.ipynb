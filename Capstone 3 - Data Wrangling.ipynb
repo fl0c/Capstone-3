{
 "cells": [
  {
   "cell_type": "markdown",
   "id": "d9b4d535",
   "metadata": {},
   "source": [
    "# Data Cleaning for Text Summarization"
   ]
  },
  {
   "cell_type": "markdown",
   "id": "61928d7e",
   "metadata": {},
   "source": [
    "Data source:\n",
    "<br> https://www.kaggle.com/namrarehman/bbc-articles?select=BBCarticles_csv.csv\n",
    "<br> Code adpated from:\n",
    "<br> https://www.analyticsvidhya.com/blog/2019/06/comprehensive-guide-text-summarization-using-deep-learning-python/"
   ]
  },
  {
   "cell_type": "code",
   "execution_count": 280,
   "id": "92eac00f",
   "metadata": {},
   "outputs": [],
   "source": [
    "# Import modules and packages\n",
    "import nltk\n",
    "import string\n",
    "import numpy as np  \n",
    "import pandas as pd \n",
    "import re\n",
    "from nltk.corpus import stopwords \n",
    "import warnings\n",
    "pd.set_option(\"display.max_colwidth\", 200)\n",
    "warnings.filterwarnings(\"ignore\")\n",
    "from keras.preprocessing.text import Tokenizer "
   ]
  },
  {
   "cell_type": "markdown",
   "id": "8ba1f84c",
   "metadata": {},
   "source": [
    "## Read in Text"
   ]
  },
  {
   "cell_type": "code",
   "execution_count": 281,
   "id": "f60db50d",
   "metadata": {},
   "outputs": [
    {
     "name": "stdout",
     "output_type": "stream",
     "text": [
      "<class 'pandas.core.frame.DataFrame'>\n",
      "RangeIndex: 2225 entries, 0 to 2224\n",
      "Data columns (total 2 columns):\n",
      " #   Column   Non-Null Count  Dtype \n",
      "---  ------   --------------  ----- \n",
      " 0   Summary  2225 non-null   object\n",
      " 1   Text     2225 non-null   object\n",
      "dtypes: object(2)\n",
      "memory usage: 34.9+ KB\n"
     ]
    }
   ],
   "source": [
    "# load data\n",
    "#df = pd.read_csv(\"Reviews.csv\",nrows=10000)\n",
    "df = pd.read_csv(\"BBCarticles.csv\", encoding ='latin1') #2127 dataset\n",
    "\n",
    "df.info()"
   ]
  },
  {
   "cell_type": "code",
   "execution_count": 282,
   "id": "ca52a461",
   "metadata": {},
   "outputs": [],
   "source": [
    "contraction_mapping = {\"ain't\": \"is not\", \"aren't\": \"are not\",\"can't\": \"cannot\", \"'cause\": \"because\", \"could've\": \"could have\", \"couldn't\": \"could not\",\n",
    "                           \"didn't\": \"did not\",  \"doesn't\": \"does not\", \"don't\": \"do not\", \"hadn't\": \"had not\", \"hasn't\": \"has not\", \"haven't\": \"have not\",\n",
    "                           \"he'd\": \"he would\",\"he'll\": \"he will\", \"he's\": \"he is\", \"how'd\": \"how did\", \"how'd'y\": \"how do you\", \"how'll\": \"how will\", \"how's\": \"how is\",\n",
    "                           \"I'd\": \"I would\", \"I'd've\": \"I would have\", \"I'll\": \"I will\", \"I'll've\": \"I will have\",\"I'm\": \"I am\", \"I've\": \"I have\", \"i'd\": \"i would\",\n",
    "                           \"i'd've\": \"i would have\", \"i'll\": \"i will\",  \"i'll've\": \"i will have\",\"i'm\": \"i am\", \"i've\": \"i have\", \"isn't\": \"is not\", \"it'd\": \"it would\",\n",
    "                           \"it'd've\": \"it would have\", \"it'll\": \"it will\", \"it'll've\": \"it will have\",\"it's\": \"it is\", \"let's\": \"let us\", \"ma'am\": \"madam\",\n",
    "                           \"mayn't\": \"may not\", \"might've\": \"might have\",\"mightn't\": \"might not\",\"mightn't've\": \"might not have\", \"must've\": \"must have\",\n",
    "                           \"mustn't\": \"must not\", \"mustn't've\": \"must not have\", \"needn't\": \"need not\", \"needn't've\": \"need not have\",\"o'clock\": \"of the clock\",\n",
    "                           \"oughtn't\": \"ought not\", \"oughtn't've\": \"ought not have\", \"shan't\": \"shall not\", \"sha'n't\": \"shall not\", \"shan't've\": \"shall not have\",\n",
    "                           \"she'd\": \"she would\", \"she'd've\": \"she would have\", \"she'll\": \"she will\", \"she'll've\": \"she will have\", \"she's\": \"she is\",\n",
    "                           \"should've\": \"should have\", \"shouldn't\": \"should not\", \"shouldn't've\": \"should not have\", \"so've\": \"so have\",\"so's\": \"so as\",\n",
    "                           \"this's\": \"this is\",\"that'd\": \"that would\", \"that'd've\": \"that would have\", \"that's\": \"that is\", \"there'd\": \"there would\",\n",
    "                           \"there'd've\": \"there would have\", \"there's\": \"there is\", \"here's\": \"here is\",\"they'd\": \"they would\", \"they'd've\": \"they would have\",\n",
    "                           \"they'll\": \"they will\", \"they'll've\": \"they will have\", \"they're\": \"they are\", \"they've\": \"they have\", \"to've\": \"to have\",\n",
    "                           \"wasn't\": \"was not\", \"we'd\": \"we would\", \"we'd've\": \"we would have\", \"we'll\": \"we will\", \"we'll've\": \"we will have\", \"we're\": \"we are\",\n",
    "                           \"we've\": \"we have\", \"weren't\": \"were not\", \"what'll\": \"what will\", \"what'll've\": \"what will have\", \"what're\": \"what are\",\n",
    "                           \"what's\": \"what is\", \"what've\": \"what have\", \"when's\": \"when is\", \"when've\": \"when have\", \"where'd\": \"where did\", \"where's\": \"where is\",\n",
    "                           \"where've\": \"where have\", \"who'll\": \"who will\", \"who'll've\": \"who will have\", \"who's\": \"who is\", \"who've\": \"who have\",\n",
    "                           \"why's\": \"why is\", \"why've\": \"why have\", \"will've\": \"will have\", \"won't\": \"will not\", \"won't've\": \"will not have\",\n",
    "                           \"would've\": \"would have\", \"wouldn't\": \"would not\", \"wouldn't've\": \"would not have\", \"y'all\": \"you all\",\n",
    "                           \"y'all'd\": \"you all would\",\"y'all'd've\": \"you all would have\",\"y'all're\": \"you all are\",\"y'all've\": \"you all have\",\n",
    "                           \"you'd\": \"you would\", \"you'd've\": \"you would have\", \"you'll\": \"you will\", \"you'll've\": \"you will have\",\n",
    "                           \"you're\": \"you are\", \"you've\": \"you have\"}"
   ]
  },
  {
   "cell_type": "code",
   "execution_count": 283,
   "id": "def09dcd",
   "metadata": {},
   "outputs": [
    {
     "data": {
      "text/html": [
       "<div>\n",
       "<style scoped>\n",
       "    .dataframe tbody tr th:only-of-type {\n",
       "        vertical-align: middle;\n",
       "    }\n",
       "\n",
       "    .dataframe tbody tr th {\n",
       "        vertical-align: top;\n",
       "    }\n",
       "\n",
       "    .dataframe thead th {\n",
       "        text-align: right;\n",
       "    }\n",
       "</style>\n",
       "<table border=\"1\" class=\"dataframe\">\n",
       "  <thead>\n",
       "    <tr style=\"text-align: right;\">\n",
       "      <th></th>\n",
       "      <th>Summary</th>\n",
       "      <th>Text</th>\n",
       "      <th>cleaned_text</th>\n",
       "      <th>cleaned_summary</th>\n",
       "    </tr>\n",
       "  </thead>\n",
       "  <tbody>\n",
       "    <tr>\n",
       "      <th>0</th>\n",
       "      <td>TimeWarner said fourth quarter sales rose 2% to $11.1bn from $10.9bn.For the full-year, TimeWarner posted a profit of $3.36bn, up 27% from its 2003 performance, while revenues grew 6.4% to $42.09b...</td>\n",
       "      <td>Ad sales boost Time Warner profit\\n\\nQuarterly profits at US media giant TimeWarner jumped 76% to $1.13bn (Â£600m) for the three months to December, from $639m year-earlier.\\n\\nThe firm, which is ...</td>\n",
       "      <td>Ad sales boost Time Warner profit Quarterly profits US media giant TimeWarner jumped 76% $1.13bn £600m three months December, $639m year-earlier. The firm, one biggest investors Google, benefited ...</td>\n",
       "      <td>TimeWarner said fourth quarter sales rose 2% $11.1bn $10.9bn.For full-year, TimeWarner posted profit $3.36bn, 27% 2003 performance, revenues grew 6.4% $42.09bn.Quarterly profits US media giant Tim...</td>\n",
       "    </tr>\n",
       "    <tr>\n",
       "      <th>1</th>\n",
       "      <td>The dollar has hit its highest level against the euro in almost three months after the Federal Reserve head said the US trade deficit is set to stabilise.China's currency remains pegged to the dol...</td>\n",
       "      <td>Dollar gains on Greenspan speech\\n\\nThe dollar has hit its highest level against the euro in almost three months after the Federal Reserve head said the US trade deficit is set to stabilise.\\n\\nAn...</td>\n",
       "      <td>Dollar gains Greenspan speech The dollar hit highest level euro almost three months Federal Reserve head said US trade deficit set stabilise. And Alan Greenspan highlighted US government willingne...</td>\n",
       "      <td>The dollar hit highest level euro almost three months Federal Reserve head said US trade deficit set stabilise.China currency remains pegged dollar US currency sharp falls recent months therefore ...</td>\n",
       "    </tr>\n",
       "    <tr>\n",
       "      <th>2</th>\n",
       "      <td>Yukos' owner Menatep Group says it will ask Rosneft to repay a loan that Yugansk had secured on its assets.State-owned Rosneft bought the Yugansk unit for $9.3bn in a sale forced by Russia to part...</td>\n",
       "      <td>Yukos unit buyer faces loan claim\\n\\nThe owners of embattled Russian oil giant Yukos are to ask the buyer of its former production unit to pay back a $900m (Â£479m) loan.\\n\\nState-owned Rosneft bo...</td>\n",
       "      <td>Yukos unit buyer faces loan claim The owners embattled Russian oil giant Yukos ask buyer former production unit pay back $900m £479m loan. State-owned Rosneft bought Yugansk unit $9.3bn sale force...</td>\n",
       "      <td>Yukos' owner Menatep Group says ask Rosneft repay loan Yugansk secured assets.State-owned Rosneft bought Yugansk unit $9.3bn sale forced Russia part settle $27.5bn tax claim Yukos.The sale went ah...</td>\n",
       "    </tr>\n",
       "    <tr>\n",
       "      <th>3</th>\n",
       "      <td>Rod Eddington, BA's chief executive, said the results were \"respectable\" in a third quarter when fuel costs rose by Â£106m or 47.3%.To help offset the increased price of aviation fuel, BA last yea...</td>\n",
       "      <td>High fuel prices hit BA's profits\\n\\nBritish Airways has blamed high fuel prices for a 40% drop in profits.\\n\\nReporting its results for the three months to 31 December 2004, the airline made a pr...</td>\n",
       "      <td>High fuel prices hit BA profits British Airways blamed high fuel prices 40% drop profits. Reporting results three months 31 December 2004, airline made pre-tax profit £75m $141m compared £125m yea...</td>\n",
       "      <td>Rod Eddington, BA chief executive, said results respectable third quarter fuel costs rose £106m 47.3%.To help offset increased price aviation fuel, BA last year introduced fuel surcharge passenger...</td>\n",
       "    </tr>\n",
       "    <tr>\n",
       "      <th>4</th>\n",
       "      <td>Pernod has reduced the debt it took on to fund the Seagram purchase to just 1.8bn euros, while Allied has improved the performance of its fast-food chains.Shares in UK drinks and food firm Allied ...</td>\n",
       "      <td>Pernod takeover talk lifts Domecq\\n\\nShares in UK drinks and food firm Allied Domecq have risen on speculation that it could be the target of a takeover by France's Pernod Ricard.\\n\\nReports in th...</td>\n",
       "      <td>Pernod takeover talk lifts Domecq Shares UK drinks food firm Allied Domecq risen speculation could target takeover France Pernod Ricard. Reports Wall Street Journal Financial Times suggested Frenc...</td>\n",
       "      <td>Pernod reduced debt took fund Seagram purchase 1.8bn euros, Allied improved performance fast-food chains.Shares UK drinks food firm Allied Domecq risen speculation could target takeover France Per...</td>\n",
       "    </tr>\n",
       "  </tbody>\n",
       "</table>\n",
       "</div>"
      ],
      "text/plain": [
       "                                                                                                                                                                                                   Summary  \\\n",
       "0  TimeWarner said fourth quarter sales rose 2% to $11.1bn from $10.9bn.For the full-year, TimeWarner posted a profit of $3.36bn, up 27% from its 2003 performance, while revenues grew 6.4% to $42.09b...   \n",
       "1  The dollar has hit its highest level against the euro in almost three months after the Federal Reserve head said the US trade deficit is set to stabilise.China's currency remains pegged to the dol...   \n",
       "2  Yukos' owner Menatep Group says it will ask Rosneft to repay a loan that Yugansk had secured on its assets.State-owned Rosneft bought the Yugansk unit for $9.3bn in a sale forced by Russia to part...   \n",
       "3  Rod Eddington, BA's chief executive, said the results were \"respectable\" in a third quarter when fuel costs rose by Â£106m or 47.3%.To help offset the increased price of aviation fuel, BA last yea...   \n",
       "4  Pernod has reduced the debt it took on to fund the Seagram purchase to just 1.8bn euros, while Allied has improved the performance of its fast-food chains.Shares in UK drinks and food firm Allied ...   \n",
       "\n",
       "                                                                                                                                                                                                      Text  \\\n",
       "0  Ad sales boost Time Warner profit\\n\\nQuarterly profits at US media giant TimeWarner jumped 76% to $1.13bn (Â£600m) for the three months to December, from $639m year-earlier.\\n\\nThe firm, which is ...   \n",
       "1  Dollar gains on Greenspan speech\\n\\nThe dollar has hit its highest level against the euro in almost three months after the Federal Reserve head said the US trade deficit is set to stabilise.\\n\\nAn...   \n",
       "2  Yukos unit buyer faces loan claim\\n\\nThe owners of embattled Russian oil giant Yukos are to ask the buyer of its former production unit to pay back a $900m (Â£479m) loan.\\n\\nState-owned Rosneft bo...   \n",
       "3  High fuel prices hit BA's profits\\n\\nBritish Airways has blamed high fuel prices for a 40% drop in profits.\\n\\nReporting its results for the three months to 31 December 2004, the airline made a pr...   \n",
       "4  Pernod takeover talk lifts Domecq\\n\\nShares in UK drinks and food firm Allied Domecq have risen on speculation that it could be the target of a takeover by France's Pernod Ricard.\\n\\nReports in th...   \n",
       "\n",
       "                                                                                                                                                                                              cleaned_text  \\\n",
       "0  Ad sales boost Time Warner profit Quarterly profits US media giant TimeWarner jumped 76% $1.13bn £600m three months December, $639m year-earlier. The firm, one biggest investors Google, benefited ...   \n",
       "1  Dollar gains Greenspan speech The dollar hit highest level euro almost three months Federal Reserve head said US trade deficit set stabilise. And Alan Greenspan highlighted US government willingne...   \n",
       "2  Yukos unit buyer faces loan claim The owners embattled Russian oil giant Yukos ask buyer former production unit pay back $900m £479m loan. State-owned Rosneft bought Yugansk unit $9.3bn sale force...   \n",
       "3  High fuel prices hit BA profits British Airways blamed high fuel prices 40% drop profits. Reporting results three months 31 December 2004, airline made pre-tax profit £75m $141m compared £125m yea...   \n",
       "4  Pernod takeover talk lifts Domecq Shares UK drinks food firm Allied Domecq risen speculation could target takeover France Pernod Ricard. Reports Wall Street Journal Financial Times suggested Frenc...   \n",
       "\n",
       "                                                                                                                                                                                           cleaned_summary  \n",
       "0  TimeWarner said fourth quarter sales rose 2% $11.1bn $10.9bn.For full-year, TimeWarner posted profit $3.36bn, 27% 2003 performance, revenues grew 6.4% $42.09bn.Quarterly profits US media giant Tim...  \n",
       "1  The dollar hit highest level euro almost three months Federal Reserve head said US trade deficit set stabilise.China currency remains pegged dollar US currency sharp falls recent months therefore ...  \n",
       "2  Yukos' owner Menatep Group says ask Rosneft repay loan Yugansk secured assets.State-owned Rosneft bought Yugansk unit $9.3bn sale forced Russia part settle $27.5bn tax claim Yukos.The sale went ah...  \n",
       "3  Rod Eddington, BA chief executive, said results respectable third quarter fuel costs rose £106m 47.3%.To help offset increased price aviation fuel, BA last year introduced fuel surcharge passenger...  \n",
       "4  Pernod reduced debt took fund Seagram purchase 1.8bn euros, Allied improved performance fast-food chains.Shares UK drinks food firm Allied Domecq risen speculation could target takeover France Per...  "
      ]
     },
     "execution_count": 283,
     "metadata": {},
     "output_type": "execute_result"
    }
   ],
   "source": [
    "# Clean Text\n",
    "stop_words = set(stopwords.words('english'))\n",
    "\n",
    "def clean_text(text):\n",
    "    \"\"\"\n",
    "    This function takes a string as input, performs these operations: \n",
    "        - remove unwanted punctuation, apostrophe 's\n",
    "        - contraction mapping\n",
    "        - removes any stopwords and short words\n",
    "    \"\"\" \n",
    "    # remove unwanted punctuation\n",
    "    t1 = re.sub('[(!@\"#Â^&*`)]', ' ', text)\n",
    "    # remove apostrophe 's\n",
    "    t1 = re.sub(r\"'s\\b\",\"\", t1)\n",
    "    # contraction mapping\n",
    "    t1 = ' '.join([contraction_mapping[t] \n",
    "                          if t in contraction_mapping else t for t in t1.split(\" \")])    \n",
    "    # Remove stopwords and single letter words\n",
    "    tokens = [w for w in t1.split() if not w in stop_words and len(w) > 1]      \n",
    "    t1 = (' '.join(tokens)).strip()\n",
    "    return t1\n",
    "\n",
    "cleaned_text = []\n",
    "for t in df.Text:\n",
    "    cleaned_text.append(clean_text(t))\n",
    "df['cleaned_text']=cleaned_text\n",
    "\n",
    "cleaned_summary = []\n",
    "for t in df.Summary:\n",
    "    cleaned_summary.append(clean_text(t))\n",
    "df['cleaned_summary']=cleaned_summary\n",
    "\n",
    "# Review the cleaned dataset\n",
    "df.head()"
   ]
  },
  {
   "cell_type": "code",
   "execution_count": 284,
   "id": "43c30912",
   "metadata": {},
   "outputs": [
    {
     "name": "stdout",
     "output_type": "stream",
     "text": [
      "<class 'pandas.core.frame.DataFrame'>\n",
      "Int64Index: 2080 entries, 0 to 2224\n",
      "Data columns (total 4 columns):\n",
      " #   Column           Non-Null Count  Dtype \n",
      "---  ------           --------------  ----- \n",
      " 0   Summary          2080 non-null   object\n",
      " 1   Text             2080 non-null   object\n",
      " 2   cleaned_text     2080 non-null   object\n",
      " 3   cleaned_summary  2080 non-null   object\n",
      "dtypes: object(4)\n",
      "memory usage: 81.2+ KB\n"
     ]
    }
   ],
   "source": [
    "# Remove duplicates and drop na\n",
    "df.drop_duplicates(subset=['cleaned_summary'], inplace=True)\n",
    "df.dropna(axis=0, inplace= True)\n",
    "df.info()"
   ]
  },
  {
   "cell_type": "markdown",
   "id": "27b2812a",
   "metadata": {},
   "source": [
    "## EDA"
   ]
  },
  {
   "cell_type": "markdown",
   "id": "fc485b09",
   "metadata": {},
   "source": [
    "Plot the text and summary lengths to gain overview of distribution, then set the 95th percentile length as maximum length for model."
   ]
  },
  {
   "cell_type": "code",
   "execution_count": 285,
   "id": "31088ce3",
   "metadata": {},
   "outputs": [
    {
     "data": {
      "image/png": "[encoded data removed]",
      "text/plain": [
       "<Figure size 432x288 with 2 Axes>"
      ]
     },
     "metadata": {
      "needs_background": "light"
     },
     "output_type": "display_data"
    },
    {
     "name": "stdout",
     "output_type": "stream",
     "text": [
      "          text_len  summary_len\n",
      "count  2080.000000  2080.000000\n",
      "mean    233.956250   100.062019\n",
      "std     138.501131    62.453581\n",
      "min      50.000000    21.000000\n",
      "25%     152.000000    63.000000\n",
      "50%     204.000000    86.000000\n",
      "75%     288.000000   123.000000\n",
      "max    2439.000000  1110.000000\n",
      "{'95th percentile text length: ': 436, '95th percentile summary length: ': 185}\n"
     ]
    }
   ],
   "source": [
    "# Plot word length distribution\n",
    "import matplotlib.pyplot as plt\n",
    "\n",
    "text_word_count = []\n",
    "summary_word_count = []\n",
    "\n",
    "# populate the lists with sentence lengths\n",
    "for i in df['cleaned_text']:\n",
    "      text_word_count.append(len(i.split()))\n",
    "\n",
    "for i in df['cleaned_summary']:\n",
    "      summary_word_count.append(len(i.split()))\n",
    "\n",
    "df['text_len'] = text_word_count\n",
    "df['summary_len'] = summary_word_count\n",
    "        \n",
    "df.hist(bins = 30)\n",
    "plt.show()\n",
    "\n",
    "print(df.describe())\n",
    "\n",
    "print({\"95th percentile text length: \" : int(np.percentile(df.text_len, 95)),\n",
    "       \"95th percentile summary length: \" : int(np.percentile(df.summary_len, 95))})"
   ]
  },
  {
   "cell_type": "code",
   "execution_count": 286,
   "id": "42032ebd",
   "metadata": {},
   "outputs": [
    {
     "name": "stdout",
     "output_type": "stream",
     "text": [
      "          text_len  summary_len\n",
      "count  1951.000000  1951.000000\n",
      "mean    212.015889    90.288570\n",
      "std      81.196187    35.581114\n",
      "min      50.000000    21.000000\n",
      "25%     149.000000    62.000000\n",
      "50%     196.000000    83.000000\n",
      "75%     268.000000   114.000000\n",
      "max     436.000000   183.000000\n"
     ]
    }
   ],
   "source": [
    "# Set maximum length of inputs to model\n",
    "max_text_len = 436\n",
    "max_summary_len = 183\n",
    "\n",
    "# Select data with lengths less than or equal to specofied max lengths\n",
    "df_m = df[df.text_len<=max_text_len][df.summary_len<=max_summary_len] \n",
    "print(df_m.describe())"
   ]
  },
  {
   "cell_type": "code",
   "execution_count": 287,
   "id": "f9c49320",
   "metadata": {},
   "outputs": [],
   "source": [
    "# Add unique start and end cues to the summary text\n",
    "df_m['cleaned_summary'] = df_m['cleaned_summary'].apply(lambda x : 'sum_hajime_ '+ x + ' sum_owari_')"
   ]
  },
  {
   "cell_type": "code",
   "execution_count": 288,
   "id": "1cf2f755",
   "metadata": {},
   "outputs": [
    {
     "data": {
      "text/plain": [
       "'sum_hajime_ The dollar hit highest level euro almost three months Federal Reserve head said US trade deficit set stabilise.China currency remains pegged dollar US currency sharp falls recent months therefore made Chinese export prices highly competitive.Market concerns deficit hit greenback recent months. think chairman taking much sanguine view current account deficit taken time, said Robert Sinche, head currency strategy Bank America New York.The recent falls partly result big budget deficits, well US yawning current account gap, need funded buying US bonds assets foreign firms governments. He taking longer-term view, laying set conditions current account deficit improve year next. sum_owari_'"
      ]
     },
     "execution_count": 288,
     "metadata": {},
     "output_type": "execute_result"
    }
   ],
   "source": [
    "# Check text\n",
    "df_m.iloc[1,3]"
   ]
  },
  {
   "cell_type": "code",
   "execution_count": 289,
   "id": "237f485d",
   "metadata": {},
   "outputs": [
    {
     "data": {
      "text/html": [
       "<div>\n",
       "<style scoped>\n",
       "    .dataframe tbody tr th:only-of-type {\n",
       "        vertical-align: middle;\n",
       "    }\n",
       "\n",
       "    .dataframe tbody tr th {\n",
       "        vertical-align: top;\n",
       "    }\n",
       "\n",
       "    .dataframe thead th {\n",
       "        text-align: right;\n",
       "    }\n",
       "</style>\n",
       "<table border=\"1\" class=\"dataframe\">\n",
       "  <thead>\n",
       "    <tr style=\"text-align: right;\">\n",
       "      <th></th>\n",
       "      <th>Summary</th>\n",
       "      <th>Text</th>\n",
       "      <th>cleaned_text</th>\n",
       "      <th>cleaned_summary</th>\n",
       "      <th>text_len</th>\n",
       "      <th>summary_len</th>\n",
       "    </tr>\n",
       "  </thead>\n",
       "  <tbody>\n",
       "    <tr>\n",
       "      <th>0</th>\n",
       "      <td>TimeWarner said fourth quarter sales rose 2% to $11.1bn from $10.9bn.For the full-year, TimeWarner posted a profit of $3.36bn, up 27% from its 2003 performance, while revenues grew 6.4% to $42.09b...</td>\n",
       "      <td>Ad sales boost Time Warner profit\\n\\nQuarterly profits at US media giant TimeWarner jumped 76% to $1.13bn (Â£600m) for the three months to December, from $639m year-earlier.\\n\\nThe firm, which is ...</td>\n",
       "      <td>Ad sales boost Time Warner profit Quarterly profits US media giant TimeWarner jumped 76% $1.13bn £600m three months December, $639m year-earlier. The firm, one biggest investors Google, benefited ...</td>\n",
       "      <td>sum_hajime_ TimeWarner said fourth quarter sales rose 2% $11.1bn $10.9bn.For full-year, TimeWarner posted profit $3.36bn, 27% 2003 performance, revenues grew 6.4% $42.09bn.Quarterly profits US med...</td>\n",
       "      <td>270</td>\n",
       "      <td>94</td>\n",
       "    </tr>\n",
       "    <tr>\n",
       "      <th>1</th>\n",
       "      <td>The dollar has hit its highest level against the euro in almost three months after the Federal Reserve head said the US trade deficit is set to stabilise.China's currency remains pegged to the dol...</td>\n",
       "      <td>Dollar gains on Greenspan speech\\n\\nThe dollar has hit its highest level against the euro in almost three months after the Federal Reserve head said the US trade deficit is set to stabilise.\\n\\nAn...</td>\n",
       "      <td>Dollar gains Greenspan speech The dollar hit highest level euro almost three months Federal Reserve head said US trade deficit set stabilise. And Alan Greenspan highlighted US government willingne...</td>\n",
       "      <td>sum_hajime_ The dollar hit highest level euro almost three months Federal Reserve head said US trade deficit set stabilise.China currency remains pegged dollar US currency sharp falls recent month...</td>\n",
       "      <td>241</td>\n",
       "      <td>97</td>\n",
       "    </tr>\n",
       "    <tr>\n",
       "      <th>2</th>\n",
       "      <td>Yukos' owner Menatep Group says it will ask Rosneft to repay a loan that Yugansk had secured on its assets.State-owned Rosneft bought the Yugansk unit for $9.3bn in a sale forced by Russia to part...</td>\n",
       "      <td>Yukos unit buyer faces loan claim\\n\\nThe owners of embattled Russian oil giant Yukos are to ask the buyer of its former production unit to pay back a $900m (Â£479m) loan.\\n\\nState-owned Rosneft bo...</td>\n",
       "      <td>Yukos unit buyer faces loan claim The owners embattled Russian oil giant Yukos ask buyer former production unit pay back $900m £479m loan. State-owned Rosneft bought Yugansk unit $9.3bn sale force...</td>\n",
       "      <td>sum_hajime_ Yukos' owner Menatep Group says ask Rosneft repay loan Yugansk secured assets.State-owned Rosneft bought Yugansk unit $9.3bn sale forced Russia part settle $27.5bn tax claim Yukos.The ...</td>\n",
       "      <td>164</td>\n",
       "      <td>70</td>\n",
       "    </tr>\n",
       "    <tr>\n",
       "      <th>3</th>\n",
       "      <td>Rod Eddington, BA's chief executive, said the results were \"respectable\" in a third quarter when fuel costs rose by Â£106m or 47.3%.To help offset the increased price of aviation fuel, BA last yea...</td>\n",
       "      <td>High fuel prices hit BA's profits\\n\\nBritish Airways has blamed high fuel prices for a 40% drop in profits.\\n\\nReporting its results for the three months to 31 December 2004, the airline made a pr...</td>\n",
       "      <td>High fuel prices hit BA profits British Airways blamed high fuel prices 40% drop profits. Reporting results three months 31 December 2004, airline made pre-tax profit £75m $141m compared £125m yea...</td>\n",
       "      <td>sum_hajime_ Rod Eddington, BA chief executive, said results respectable third quarter fuel costs rose £106m 47.3%.To help offset increased price aviation fuel, BA last year introduced fuel surchar...</td>\n",
       "      <td>272</td>\n",
       "      <td>130</td>\n",
       "    </tr>\n",
       "    <tr>\n",
       "      <th>4</th>\n",
       "      <td>Pernod has reduced the debt it took on to fund the Seagram purchase to just 1.8bn euros, while Allied has improved the performance of its fast-food chains.Shares in UK drinks and food firm Allied ...</td>\n",
       "      <td>Pernod takeover talk lifts Domecq\\n\\nShares in UK drinks and food firm Allied Domecq have risen on speculation that it could be the target of a takeover by France's Pernod Ricard.\\n\\nReports in th...</td>\n",
       "      <td>Pernod takeover talk lifts Domecq Shares UK drinks food firm Allied Domecq risen speculation could target takeover France Pernod Ricard. Reports Wall Street Journal Financial Times suggested Frenc...</td>\n",
       "      <td>sum_hajime_ Pernod reduced debt took fund Seagram purchase 1.8bn euros, Allied improved performance fast-food chains.Shares UK drinks food firm Allied Domecq risen speculation could target takeove...</td>\n",
       "      <td>171</td>\n",
       "      <td>63</td>\n",
       "    </tr>\n",
       "  </tbody>\n",
       "</table>\n",
       "</div>"
      ],
      "text/plain": [
       "                                                                                                                                                                                                   Summary  \\\n",
       "0  TimeWarner said fourth quarter sales rose 2% to $11.1bn from $10.9bn.For the full-year, TimeWarner posted a profit of $3.36bn, up 27% from its 2003 performance, while revenues grew 6.4% to $42.09b...   \n",
       "1  The dollar has hit its highest level against the euro in almost three months after the Federal Reserve head said the US trade deficit is set to stabilise.China's currency remains pegged to the dol...   \n",
       "2  Yukos' owner Menatep Group says it will ask Rosneft to repay a loan that Yugansk had secured on its assets.State-owned Rosneft bought the Yugansk unit for $9.3bn in a sale forced by Russia to part...   \n",
       "3  Rod Eddington, BA's chief executive, said the results were \"respectable\" in a third quarter when fuel costs rose by Â£106m or 47.3%.To help offset the increased price of aviation fuel, BA last yea...   \n",
       "4  Pernod has reduced the debt it took on to fund the Seagram purchase to just 1.8bn euros, while Allied has improved the performance of its fast-food chains.Shares in UK drinks and food firm Allied ...   \n",
       "\n",
       "                                                                                                                                                                                                      Text  \\\n",
       "0  Ad sales boost Time Warner profit\\n\\nQuarterly profits at US media giant TimeWarner jumped 76% to $1.13bn (Â£600m) for the three months to December, from $639m year-earlier.\\n\\nThe firm, which is ...   \n",
       "1  Dollar gains on Greenspan speech\\n\\nThe dollar has hit its highest level against the euro in almost three months after the Federal Reserve head said the US trade deficit is set to stabilise.\\n\\nAn...   \n",
       "2  Yukos unit buyer faces loan claim\\n\\nThe owners of embattled Russian oil giant Yukos are to ask the buyer of its former production unit to pay back a $900m (Â£479m) loan.\\n\\nState-owned Rosneft bo...   \n",
       "3  High fuel prices hit BA's profits\\n\\nBritish Airways has blamed high fuel prices for a 40% drop in profits.\\n\\nReporting its results for the three months to 31 December 2004, the airline made a pr...   \n",
       "4  Pernod takeover talk lifts Domecq\\n\\nShares in UK drinks and food firm Allied Domecq have risen on speculation that it could be the target of a takeover by France's Pernod Ricard.\\n\\nReports in th...   \n",
       "\n",
       "                                                                                                                                                                                              cleaned_text  \\\n",
       "0  Ad sales boost Time Warner profit Quarterly profits US media giant TimeWarner jumped 76% $1.13bn £600m three months December, $639m year-earlier. The firm, one biggest investors Google, benefited ...   \n",
       "1  Dollar gains Greenspan speech The dollar hit highest level euro almost three months Federal Reserve head said US trade deficit set stabilise. And Alan Greenspan highlighted US government willingne...   \n",
       "2  Yukos unit buyer faces loan claim The owners embattled Russian oil giant Yukos ask buyer former production unit pay back $900m £479m loan. State-owned Rosneft bought Yugansk unit $9.3bn sale force...   \n",
       "3  High fuel prices hit BA profits British Airways blamed high fuel prices 40% drop profits. Reporting results three months 31 December 2004, airline made pre-tax profit £75m $141m compared £125m yea...   \n",
       "4  Pernod takeover talk lifts Domecq Shares UK drinks food firm Allied Domecq risen speculation could target takeover France Pernod Ricard. Reports Wall Street Journal Financial Times suggested Frenc...   \n",
       "\n",
       "                                                                                                                                                                                           cleaned_summary  \\\n",
       "0  sum_hajime_ TimeWarner said fourth quarter sales rose 2% $11.1bn $10.9bn.For full-year, TimeWarner posted profit $3.36bn, 27% 2003 performance, revenues grew 6.4% $42.09bn.Quarterly profits US med...   \n",
       "1  sum_hajime_ The dollar hit highest level euro almost three months Federal Reserve head said US trade deficit set stabilise.China currency remains pegged dollar US currency sharp falls recent month...   \n",
       "2  sum_hajime_ Yukos' owner Menatep Group says ask Rosneft repay loan Yugansk secured assets.State-owned Rosneft bought Yugansk unit $9.3bn sale forced Russia part settle $27.5bn tax claim Yukos.The ...   \n",
       "3  sum_hajime_ Rod Eddington, BA chief executive, said results respectable third quarter fuel costs rose £106m 47.3%.To help offset increased price aviation fuel, BA last year introduced fuel surchar...   \n",
       "4  sum_hajime_ Pernod reduced debt took fund Seagram purchase 1.8bn euros, Allied improved performance fast-food chains.Shares UK drinks food firm Allied Domecq risen speculation could target takeove...   \n",
       "\n",
       "   text_len  summary_len  \n",
       "0       270           94  \n",
       "1       241           97  \n",
       "2       164           70  \n",
       "3       272          130  \n",
       "4       171           63  "
      ]
     },
     "execution_count": 289,
     "metadata": {},
     "output_type": "execute_result"
    }
   ],
   "source": [
    "df_m.head()"
   ]
  },
  {
   "cell_type": "code",
   "execution_count": 290,
   "id": "04d54a63",
   "metadata": {},
   "outputs": [],
   "source": [
    "df_m.to_csv('data.csv')  "
   ]
  }
 ],
 "metadata": {
  "kernelspec": {
   "display_name": "Python 3",
   "language": "python",
   "name": "python3"
  },
  "language_info": {
   "codemirror_mode": {
    "name": "ipython",
    "version": 3
   },
   "file_extension": ".py",
   "mimetype": "text/x-python",
   "name": "python",
   "nbconvert_exporter": "python",
   "pygments_lexer": "ipython3",
   "version": "3.8.8"
  }
 },
 "nbformat": 4,
 "nbformat_minor": 5
}
